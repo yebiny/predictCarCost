{
 "cells": [
  {
   "cell_type": "code",
   "execution_count": 1,
   "metadata": {},
   "outputs": [],
   "source": [
    "from pycaret.classification import *\n",
    "import os\n",
    "import pandas as pd\n",
    "import matplotlib.pyplot as plt\n",
    "from prepro import *\n",
    "from sklearn.preprocessing import MinMaxScaler\n",
    "import pandas as pd"
   ]
  },
  {
   "cell_type": "code",
   "execution_count": 2,
   "metadata": {},
   "outputs": [],
   "source": [
    "path = './0-Data/'"
   ]
  },
  {
   "cell_type": "code",
   "execution_count": 3,
   "metadata": {},
   "outputs": [
    {
     "name": "stdout",
     "output_type": "stream",
     "text": [
      "(11769, 15)\n",
      "(5789, 13)\n",
      "(5789, 2)\n"
     ]
    }
   ],
   "source": [
    "train_csv = pd.read_csv(path + 'train.csv')\n",
    "test_csv = pd.read_csv(path + 'test.csv')\n",
    "submission = pd.read_csv(path + 'submission.csv')\n",
    "\n",
    "print(train_csv.shape)\n",
    "print(test_csv.shape)\n",
    "print(submission.shape)"
   ]
  },
  {
   "cell_type": "code",
   "execution_count": 4,
   "metadata": {},
   "outputs": [
    {
     "data": {
      "text/html": [
       "<div>\n",
       "<style scoped>\n",
       "    .dataframe tbody tr th:only-of-type {\n",
       "        vertical-align: middle;\n",
       "    }\n",
       "\n",
       "    .dataframe tbody tr th {\n",
       "        vertical-align: top;\n",
       "    }\n",
       "\n",
       "    .dataframe thead th {\n",
       "        text-align: right;\n",
       "    }\n",
       "</style>\n",
       "<table border=\"1\" class=\"dataframe\">\n",
       "  <thead>\n",
       "    <tr style=\"text-align: right;\">\n",
       "      <th></th>\n",
       "      <th>no</th>\n",
       "      <th>모델명</th>\n",
       "      <th>연월</th>\n",
       "      <th>연식</th>\n",
       "      <th>연료</th>\n",
       "      <th>주행거리</th>\n",
       "      <th>인승</th>\n",
       "      <th>최대출력(마력)</th>\n",
       "      <th>기통</th>\n",
       "      <th>최대토크(kgm)</th>\n",
       "      <th>구동방식</th>\n",
       "      <th>자동수동</th>\n",
       "      <th>국산/수입</th>\n",
       "      <th>신차가(만원)</th>\n",
       "      <th>가격(만원)</th>\n",
       "    </tr>\n",
       "  </thead>\n",
       "  <tbody>\n",
       "    <tr>\n",
       "      <th>0</th>\n",
       "      <td>0</td>\n",
       "      <td>기아 더 뉴 K7 2.4 GDI 프레스티지 스페셜</td>\n",
       "      <td>12/12(13년형)</td>\n",
       "      <td>2013</td>\n",
       "      <td>가솔린</td>\n",
       "      <td>4만km</td>\n",
       "      <td>NaN</td>\n",
       "      <td>201.0</td>\n",
       "      <td>4.0</td>\n",
       "      <td>25.5</td>\n",
       "      <td>FF</td>\n",
       "      <td>NaN</td>\n",
       "      <td>국산</td>\n",
       "      <td>3141.0</td>\n",
       "      <td>1870</td>\n",
       "    </tr>\n",
       "    <tr>\n",
       "      <th>1</th>\n",
       "      <td>1</td>\n",
       "      <td>현대 YF쏘나타 2.0 Y20 LPi 프리미어</td>\n",
       "      <td>10월 3일</td>\n",
       "      <td>2010</td>\n",
       "      <td>LPG</td>\n",
       "      <td>9만km</td>\n",
       "      <td>NaN</td>\n",
       "      <td>157.0</td>\n",
       "      <td>NaN</td>\n",
       "      <td>20.0</td>\n",
       "      <td>FF</td>\n",
       "      <td>NaN</td>\n",
       "      <td>국산</td>\n",
       "      <td>NaN</td>\n",
       "      <td>700</td>\n",
       "    </tr>\n",
       "    <tr>\n",
       "      <th>2</th>\n",
       "      <td>2</td>\n",
       "      <td>현대 그랜져HG 220 디젤 프리미엄</td>\n",
       "      <td>14/09(15년형)</td>\n",
       "      <td>2015</td>\n",
       "      <td>디젤</td>\n",
       "      <td>3만km</td>\n",
       "      <td>NaN</td>\n",
       "      <td>202.0</td>\n",
       "      <td>4.0</td>\n",
       "      <td>45.0</td>\n",
       "      <td>FF</td>\n",
       "      <td>NaN</td>\n",
       "      <td>국산</td>\n",
       "      <td>3389.0</td>\n",
       "      <td>2990</td>\n",
       "    </tr>\n",
       "    <tr>\n",
       "      <th>3</th>\n",
       "      <td>3</td>\n",
       "      <td>쌍용 뉴카이런 2.0 LV5 2WD 고급형</td>\n",
       "      <td>07/06(08년형)</td>\n",
       "      <td>2008</td>\n",
       "      <td>디젤</td>\n",
       "      <td>16만km</td>\n",
       "      <td>NaN</td>\n",
       "      <td>151.0</td>\n",
       "      <td>4.0</td>\n",
       "      <td>33.8</td>\n",
       "      <td>FR</td>\n",
       "      <td>NaN</td>\n",
       "      <td>국산</td>\n",
       "      <td>2499.0</td>\n",
       "      <td>420</td>\n",
       "    </tr>\n",
       "    <tr>\n",
       "      <th>4</th>\n",
       "      <td>4</td>\n",
       "      <td>현대 뉴스타렉스 점보 밴 TCI 3인승 GX 윈도우밴 일반형</td>\n",
       "      <td>4월 3일</td>\n",
       "      <td>2004</td>\n",
       "      <td>디젤</td>\n",
       "      <td>16만km</td>\n",
       "      <td>3.0</td>\n",
       "      <td>103.0</td>\n",
       "      <td>NaN</td>\n",
       "      <td>24.0</td>\n",
       "      <td>FR</td>\n",
       "      <td>수동</td>\n",
       "      <td>국산</td>\n",
       "      <td>1445.0</td>\n",
       "      <td>450</td>\n",
       "    </tr>\n",
       "  </tbody>\n",
       "</table>\n",
       "</div>"
      ],
      "text/plain": [
       "   no                                모델명           연월    연식   연료   주행거리   인승  \\\n",
       "0   0        기아 더 뉴 K7 2.4 GDI 프레스티지 스페셜  12/12(13년형)  2013  가솔린   4만km  NaN   \n",
       "1   1          현대 YF쏘나타 2.0 Y20 LPi 프리미어       10월 3일  2010  LPG   9만km  NaN   \n",
       "2   2               현대 그랜져HG 220 디젤 프리미엄  14/09(15년형)  2015   디젤   3만km  NaN   \n",
       "3   3            쌍용 뉴카이런 2.0 LV5 2WD 고급형  07/06(08년형)  2008   디젤  16만km  NaN   \n",
       "4   4  현대 뉴스타렉스 점보 밴 TCI 3인승 GX 윈도우밴 일반형        4월 3일  2004   디젤  16만km  3.0   \n",
       "\n",
       "   최대출력(마력)   기통  최대토크(kgm) 구동방식 자동수동 국산/수입  신차가(만원)  가격(만원)  \n",
       "0     201.0  4.0       25.5   FF  NaN    국산   3141.0    1870  \n",
       "1     157.0  NaN       20.0   FF  NaN    국산      NaN     700  \n",
       "2     202.0  4.0       45.0   FF  NaN    국산   3389.0    2990  \n",
       "3     151.0  4.0       33.8   FR  NaN    국산   2499.0     420  \n",
       "4     103.0  NaN       24.0   FR   수동    국산   1445.0     450  "
      ]
     },
     "execution_count": 4,
     "metadata": {},
     "output_type": "execute_result"
    }
   ],
   "source": [
    "train_csv.head()\n",
    "#test_csv.head()"
   ]
  },
  {
   "cell_type": "markdown",
   "metadata": {},
   "source": [
    "# EDA"
   ]
  },
  {
   "cell_type": "code",
   "execution_count": 6,
   "metadata": {},
   "outputs": [
    {
     "name": "stdout",
     "output_type": "stream",
     "text": [
      "* colum 선별 및 단위 정렬 (11767, 8) (5789, 7)\n",
      "label [1, 19900, 1459.6886207189598]\n",
      "years [0, 49, 9.388629217302626]\n",
      "distance [4.0, 760000.0, 100247.2584753973]\n",
      "power [17.1, 453.0, 188.21604021800414]\n",
      "torq [5.8, 140.0, 29.872607417243664]\n"
     ]
    },
    {
     "data": {
      "text/plain": [
       "((11767, 24), (5789, 23))"
      ]
     },
     "execution_count": 6,
     "metadata": {},
     "output_type": "execute_result"
    }
   ],
   "source": [
    "# colum 선별, 단위 정렬 \n",
    "\n",
    "\n",
    "df.shape, df_test.shape"
   ]
  },
  {
   "cell_type": "code",
   "execution_count": 61,
   "metadata": {},
   "outputs": [],
   "source": [
    "from sklearn.model_selection import train_test_split\n",
    "import torch\n",
    "from torch import nn, optim\n",
    "from torch.utils.data import DataLoader\n",
    "from torch.utils.data import TensorDataset\n",
    "from tqdm import tqdm\n",
    "\n",
    "def get_dl_dataset(train_csv, test_csv):\n",
    "    train = tf_df(train_csv.drop([11764, 11755], axis=0))\n",
    "    test  = tf_df(test_csv, mode='test')\n",
    "\n",
    "    categoric = ['fuel', 'method', 'engine']\n",
    "    train, test = categoric_process(train, test, categoric)\n",
    "\n",
    "    numeric = ['label', 'years', 'distance','power', 'torq']\n",
    "    minmax = get_minmax(train, test, numeric)\n",
    "    train, test= numeric_process(train, test, numeric)\n",
    "    \n",
    "    train, test_x = train.to_numpy(), test.to_numpy()\n",
    "    train_x, train_y = train[:, 1:], train[:,0]\n",
    "        \n",
    "    train_x = torch.tensor(train_x, dtype=torch.float32)\n",
    "    train_y = torch.tensor(train_y, dtype=torch.float32)\n",
    "    test_x = torch.tensor(test_x, dtype=torch.float32)\n",
    "    \n",
    "    train_x, valid_x, train_y, valid_y  = train_test_split(train_x, train_y, test_size=0.2, random_state=123)\n",
    "    \n",
    "    return train_x, train_y, valid_x, valid_y, test_x, minmax\n",
    "\n",
    "def get_ml_dataset(train_csv, test_csv):\n",
    "    train = tf_df(train_csv.drop([11764, 11755], axis=0))\n",
    "    test  = tf_df(test_csv, mode='test')\n",
    "\n",
    "    numeric = ['years', 'distance','power', 'torq']\n",
    "    minmax = get_minmax(train, test, numeric)\n",
    "    train, test= numeric_process(train, test, numeric)\n",
    "    \n",
    "    return train, test, minmax\n"
   ]
  },
  {
   "cell_type": "markdown",
   "metadata": {},
   "source": [
    "# 모델 학습"
   ]
  },
  {
   "cell_type": "code",
   "execution_count": 10,
   "metadata": {},
   "outputs": [
    {
     "name": "stderr",
     "output_type": "stream",
     "text": [
      "\r",
      "01/10:   0%|          | 0/50 [00:00<?, ?it/s]"
     ]
    },
    {
     "name": "stdout",
     "output_type": "stream",
     "text": [
      "label [1, 19900, 1459.6886207189598]\n",
      "years [0, 49, 9.388629217302626]\n",
      "distance [4.0, 760000.0, 100247.2584753973]\n",
      "power [17.1, 453.0, 188.21604021800414]\n",
      "torq [5.8, 140.0, 29.872607417243664]\n",
      "torch.Size([9413, 23]) torch.Size([9413]) torch.Size([2354, 23]) torch.Size([2354]) torch.Size([5789, 23])\n"
     ]
    },
    {
     "name": "stderr",
     "output_type": "stream",
     "text": [
      "01/10: 100%|██████████| 50/50 [00:12<00:00,  3.86it/s]"
     ]
    },
    {
     "name": "stdout",
     "output_type": "stream",
     "text": [
      "tensor(0.0527, grad_fn=<SqrtBackward>)\n"
     ]
    },
    {
     "name": "stderr",
     "output_type": "stream",
     "text": [
      "\n",
      "02/10: 100%|██████████| 50/50 [00:12<00:00,  3.91it/s]"
     ]
    },
    {
     "name": "stdout",
     "output_type": "stream",
     "text": [
      "tensor(0.0627, grad_fn=<SqrtBackward>)\n"
     ]
    },
    {
     "name": "stderr",
     "output_type": "stream",
     "text": [
      "\n",
      "03/10: 100%|██████████| 50/50 [00:12<00:00,  4.00it/s]"
     ]
    },
    {
     "name": "stdout",
     "output_type": "stream",
     "text": [
      "tensor(0.0407, grad_fn=<SqrtBackward>)\n"
     ]
    },
    {
     "name": "stderr",
     "output_type": "stream",
     "text": [
      "\n",
      "04/10: 100%|██████████| 50/50 [00:12<00:00,  3.91it/s]"
     ]
    },
    {
     "name": "stdout",
     "output_type": "stream",
     "text": [
      "tensor(0.0400, grad_fn=<SqrtBackward>)\n"
     ]
    },
    {
     "name": "stderr",
     "output_type": "stream",
     "text": [
      "\n",
      "05/10: 100%|██████████| 50/50 [00:12<00:00,  3.97it/s]"
     ]
    },
    {
     "name": "stdout",
     "output_type": "stream",
     "text": [
      "tensor(0.0214, grad_fn=<SqrtBackward>)\n"
     ]
    },
    {
     "name": "stderr",
     "output_type": "stream",
     "text": [
      "\n",
      "06/10: 100%|██████████| 50/50 [00:13<00:00,  3.80it/s]"
     ]
    },
    {
     "name": "stdout",
     "output_type": "stream",
     "text": [
      "tensor(0.0436, grad_fn=<SqrtBackward>)\n"
     ]
    },
    {
     "name": "stderr",
     "output_type": "stream",
     "text": [
      "\n",
      "07/10: 100%|██████████| 50/50 [00:13<00:00,  3.62it/s]"
     ]
    },
    {
     "name": "stdout",
     "output_type": "stream",
     "text": [
      "tensor(0.0440, grad_fn=<SqrtBackward>)\n"
     ]
    },
    {
     "name": "stderr",
     "output_type": "stream",
     "text": [
      "\n",
      "08/10: 100%|██████████| 50/50 [00:13<00:00,  3.79it/s]"
     ]
    },
    {
     "name": "stdout",
     "output_type": "stream",
     "text": [
      "tensor(0.0353, grad_fn=<SqrtBackward>)\n"
     ]
    },
    {
     "name": "stderr",
     "output_type": "stream",
     "text": [
      "\n",
      "09/10: 100%|██████████| 50/50 [00:13<00:00,  3.84it/s]"
     ]
    },
    {
     "name": "stdout",
     "output_type": "stream",
     "text": [
      "tensor(0.0477, grad_fn=<SqrtBackward>)\n"
     ]
    },
    {
     "name": "stderr",
     "output_type": "stream",
     "text": [
      "\n",
      "10/10: 100%|██████████| 50/50 [00:13<00:00,  3.79it/s]"
     ]
    },
    {
     "name": "stdout",
     "output_type": "stream",
     "text": [
      "tensor(0.0419, grad_fn=<SqrtBackward>)\n"
     ]
    },
    {
     "name": "stderr",
     "output_type": "stream",
     "text": [
      "\n"
     ]
    }
   ],
   "source": [
    "train_x, train_y, valid_x, valid_y, test_x, minmax = get_dl_dataset(train_csv, test_csv)\n",
    "print(train_x.shape, train_y.shape, valid_x.shape, valid_y.shape, test_x.shape)\n",
    "\n",
    "DEVICE = 'cuda:0' if torch.cuda.is_available() else 'cpu'\n",
    "\n",
    "\n",
    "N_MODEL = 10\n",
    "N_EPOCH = 50\n",
    "BATCH_SIZE = 64\n",
    "LOADER_PARAM = {\n",
    "    'batch_size': BATCH_SIZE,\n",
    "    'num_workers': 4,\n",
    "    'pin_memory': True\n",
    "}\n",
    "\n",
    "prediction_val = np.zeros((len(valid_x), 1), dtype=np.float32)\n",
    "prediction = np.zeros((len(test_x), 1), dtype=np.float32)\n",
    "\n",
    "class RMSELoss(nn.Module):\n",
    "    def __init__(self, eps=1e-6):\n",
    "        super().__init__()\n",
    "        self.mse = nn.MSELoss()\n",
    "        self.eps = eps\n",
    "\n",
    "    def forward(self, yhat, y):\n",
    "        loss = torch.sqrt(self.mse(yhat,y)+self.eps)\n",
    "        return loss\n",
    "        \n",
    "for no in range(N_MODEL):\n",
    "\n",
    "    train_loader = DataLoader(TensorDataset(train_x, train_y),\n",
    "                              shuffle=True, drop_last=True, **LOADER_PARAM)\n",
    "\n",
    "    valid_loader = DataLoader(TensorDataset(valid_x, torch.zeros((len(valid_x),), dtype=torch.float32)),\n",
    "                              shuffle=False, drop_last=False, **LOADER_PARAM)\n",
    "\n",
    "    test_loader = DataLoader(TensorDataset(test_x, torch.zeros((len(test_x),), dtype=torch.float32)),\n",
    "                             shuffle=False, drop_last=False, **LOADER_PARAM)\n",
    "\n",
    "\n",
    "    model = nn.Sequential(\n",
    "        nn.Dropout(0.05),\n",
    "        nn.Linear(23, 96, bias=False),\n",
    "        nn.LeakyReLU(0.05, inplace=True),\n",
    "\n",
    "        nn.Dropout(0.5),\n",
    "        nn.Linear(96, 36, bias=False),\n",
    "        nn.ReLU(inplace=True),\n",
    "\n",
    "        nn.Dropout(0.5),\n",
    "        nn.Linear(36, 12, bias=False),\n",
    "        nn.ReLU(inplace=True),\n",
    "\n",
    "        nn.Linear(12, 1)\n",
    "    ).to(DEVICE)\n",
    "\n",
    "\n",
    "    criterion = RMSELoss()\n",
    "    optimizer = optim.AdamW(model.parameters(), lr=1e-3, weight_decay=4e-2)\n",
    "    scheduler = optim.lr_scheduler.CosineAnnealingWarmRestarts(\n",
    "        optimizer, T_0=N_EPOCH // 4, eta_min=1.2e-5)\n",
    "\n",
    "    model.train()\n",
    "    for epoch in tqdm(range(N_EPOCH), desc='{:02d}/{:02d}'.format(no + 1, N_MODEL)):\n",
    "        for idx, (xx, yy) in enumerate(train_loader):\n",
    "            optimizer.zero_grad()\n",
    "            xx, yy = xx.to(DEVICE), yy.to(DEVICE)\n",
    "            pred = model(xx).squeeze()\n",
    "            loss = criterion(pred, yy)\n",
    "            loss.backward()\n",
    "            optimizer.step()\n",
    "            scheduler.step(epoch + idx / len(train_loader))\n",
    "    print(loss)\n",
    "    \n",
    "    model.eval()\n",
    "    with torch.no_grad():\n",
    "        for idx, (xx, _) in enumerate(valid_loader):\n",
    "            xx = xx.to(DEVICE)\n",
    "            pred_val = model(xx).detach().to('cpu').numpy()\n",
    "            prediction_val[BATCH_SIZE * idx:min(BATCH_SIZE * (idx + 1), len(prediction_val)), :] \\\n",
    "                += pred_val[:, :] / N_MODEL"
   ]
  },
  {
   "cell_type": "code",
   "execution_count": 12,
   "metadata": {},
   "outputs": [
    {
     "data": {
      "text/plain": [
       "((2354, 1), torch.Size([2354]))"
      ]
     },
     "execution_count": 12,
     "metadata": {},
     "output_type": "execute_result"
    }
   ],
   "source": [
    "prediction_val.shape, valid_y.shape"
   ]
  },
  {
   "cell_type": "code",
   "execution_count": 17,
   "metadata": {},
   "outputs": [
    {
     "data": {
      "text/plain": [
       "[<matplotlib.lines.Line2D at 0x151431cd0>]"
      ]
     },
     "execution_count": 17,
     "metadata": {},
     "output_type": "execute_result"
    },
    {
     "data": {
      "image/png": "[encoded data removed]",
      "text/plain": [
       "<Figure size 1296x216 with 1 Axes>"
      ]
     },
     "metadata": {
      "needs_background": "light"
     },
     "output_type": "display_data"
    }
   ],
   "source": [
    "plt.figure(figsize=(18,3))\n",
    "plt.plot(valid_y[:200])\n",
    "plt.plot(prediction_val[:200])"
   ]
  },
  {
   "cell_type": "code",
   "execution_count": 16,
   "metadata": {},
   "outputs": [
    {
     "name": "stdout",
     "output_type": "stream",
     "text": [
      "[1, 19900, 1459.6886207189598]\n"
     ]
    },
    {
     "data": {
      "text/plain": [
       "[<matplotlib.lines.Line2D at 0x151453610>]"
      ]
     },
     "execution_count": 16,
     "metadata": {},
     "output_type": "execute_result"
    },
    {
     "data": {
      "image/png": "[encoded data removed]",
      "text/plain": [
       "<Figure size 1296x216 with 1 Axes>"
      ]
     },
     "metadata": {
      "needs_background": "light"
     },
     "output_type": "display_data"
    }
   ],
   "source": [
    "print(minmax['label'])\n",
    "def get_cost(x, minmax):\n",
    "    y = x*(minmax['label'][1]-minmax['label'][0])+minmax['label'][0]\n",
    "    return y\n",
    "plt.figure(figsize=(18,3))\n",
    "plt.plot(get_cost(valid_y[:200], minmax))\n",
    "plt.plot(get_cost(prediction_val[:200], minmax))"
   ]
  },
  {
   "cell_type": "markdown",
   "metadata": {},
   "source": [
    "# ML"
   ]
  },
  {
   "cell_type": "code",
   "execution_count": 62,
   "metadata": {},
   "outputs": [
    {
     "name": "stdout",
     "output_type": "stream",
     "text": [
      "years [0, 49, 9.388629217302626]\n",
      "distance [4.0, 760000.0, 100247.2584753973]\n",
      "power [17.1, 453.0, 188.21604021800414]\n",
      "torq [5.8, 140.0, 29.872607417243664]\n"
     ]
    },
    {
     "data": {
      "text/plain": [
       "((11767, 8), (5789, 7))"
      ]
     },
     "execution_count": 62,
     "metadata": {},
     "output_type": "execute_result"
    }
   ],
   "source": [
    "train, test, minmax = get_ml_dataset(train_csv, test_csv)\n",
    "train.shape, test.shape"
   ]
  },
  {
   "cell_type": "code",
   "execution_count": 63,
   "metadata": {},
   "outputs": [
    {
     "data": {
      "text/html": [
       "<style  type=\"text/css\" >\n",
       "    #T_0f3c98ac_2625_11eb_9040_a683e7d8407arow3_col1 {\n",
       "            background-color:  lightgreen;\n",
       "        }</style><table id=\"T_0f3c98ac_2625_11eb_9040_a683e7d8407a\" ><thead>    <tr>        <th class=\"blank level0\" ></th>        <th class=\"col_heading level0 col0\" >Description</th>        <th class=\"col_heading level0 col1\" >Value</th>    </tr></thead><tbody>\n",
       "                <tr>\n",
       "                        <th id=\"T_0f3c98ac_2625_11eb_9040_a683e7d8407alevel0_row0\" class=\"row_heading level0 row0\" >0</th>\n",
       "                        <td id=\"T_0f3c98ac_2625_11eb_9040_a683e7d8407arow0_col0\" class=\"data row0 col0\" >session_id</td>\n",
       "                        <td id=\"T_0f3c98ac_2625_11eb_9040_a683e7d8407arow0_col1\" class=\"data row0 col1\" >1818</td>\n",
       "            </tr>\n",
       "            <tr>\n",
       "                        <th id=\"T_0f3c98ac_2625_11eb_9040_a683e7d8407alevel0_row1\" class=\"row_heading level0 row1\" >1</th>\n",
       "                        <td id=\"T_0f3c98ac_2625_11eb_9040_a683e7d8407arow1_col0\" class=\"data row1 col0\" >Target</td>\n",
       "                        <td id=\"T_0f3c98ac_2625_11eb_9040_a683e7d8407arow1_col1\" class=\"data row1 col1\" >label</td>\n",
       "            </tr>\n",
       "            <tr>\n",
       "                        <th id=\"T_0f3c98ac_2625_11eb_9040_a683e7d8407alevel0_row2\" class=\"row_heading level0 row2\" >2</th>\n",
       "                        <td id=\"T_0f3c98ac_2625_11eb_9040_a683e7d8407arow2_col0\" class=\"data row2 col0\" >Original Data</td>\n",
       "                        <td id=\"T_0f3c98ac_2625_11eb_9040_a683e7d8407arow2_col1\" class=\"data row2 col1\" >(11767, 8)</td>\n",
       "            </tr>\n",
       "            <tr>\n",
       "                        <th id=\"T_0f3c98ac_2625_11eb_9040_a683e7d8407alevel0_row3\" class=\"row_heading level0 row3\" >3</th>\n",
       "                        <td id=\"T_0f3c98ac_2625_11eb_9040_a683e7d8407arow3_col0\" class=\"data row3 col0\" >Missing Values</td>\n",
       "                        <td id=\"T_0f3c98ac_2625_11eb_9040_a683e7d8407arow3_col1\" class=\"data row3 col1\" >True</td>\n",
       "            </tr>\n",
       "            <tr>\n",
       "                        <th id=\"T_0f3c98ac_2625_11eb_9040_a683e7d8407alevel0_row4\" class=\"row_heading level0 row4\" >4</th>\n",
       "                        <td id=\"T_0f3c98ac_2625_11eb_9040_a683e7d8407arow4_col0\" class=\"data row4 col0\" >Numeric Features</td>\n",
       "                        <td id=\"T_0f3c98ac_2625_11eb_9040_a683e7d8407arow4_col1\" class=\"data row4 col1\" >4</td>\n",
       "            </tr>\n",
       "            <tr>\n",
       "                        <th id=\"T_0f3c98ac_2625_11eb_9040_a683e7d8407alevel0_row5\" class=\"row_heading level0 row5\" >5</th>\n",
       "                        <td id=\"T_0f3c98ac_2625_11eb_9040_a683e7d8407arow5_col0\" class=\"data row5 col0\" >Categorical Features</td>\n",
       "                        <td id=\"T_0f3c98ac_2625_11eb_9040_a683e7d8407arow5_col1\" class=\"data row5 col1\" >3</td>\n",
       "            </tr>\n",
       "            <tr>\n",
       "                        <th id=\"T_0f3c98ac_2625_11eb_9040_a683e7d8407alevel0_row6\" class=\"row_heading level0 row6\" >6</th>\n",
       "                        <td id=\"T_0f3c98ac_2625_11eb_9040_a683e7d8407arow6_col0\" class=\"data row6 col0\" >Ordinal Features</td>\n",
       "                        <td id=\"T_0f3c98ac_2625_11eb_9040_a683e7d8407arow6_col1\" class=\"data row6 col1\" >False</td>\n",
       "            </tr>\n",
       "            <tr>\n",
       "                        <th id=\"T_0f3c98ac_2625_11eb_9040_a683e7d8407alevel0_row7\" class=\"row_heading level0 row7\" >7</th>\n",
       "                        <td id=\"T_0f3c98ac_2625_11eb_9040_a683e7d8407arow7_col0\" class=\"data row7 col0\" >High Cardinality Features</td>\n",
       "                        <td id=\"T_0f3c98ac_2625_11eb_9040_a683e7d8407arow7_col1\" class=\"data row7 col1\" >False</td>\n",
       "            </tr>\n",
       "            <tr>\n",
       "                        <th id=\"T_0f3c98ac_2625_11eb_9040_a683e7d8407alevel0_row8\" class=\"row_heading level0 row8\" >8</th>\n",
       "                        <td id=\"T_0f3c98ac_2625_11eb_9040_a683e7d8407arow8_col0\" class=\"data row8 col0\" >High Cardinality Method</td>\n",
       "                        <td id=\"T_0f3c98ac_2625_11eb_9040_a683e7d8407arow8_col1\" class=\"data row8 col1\" >None</td>\n",
       "            </tr>\n",
       "            <tr>\n",
       "                        <th id=\"T_0f3c98ac_2625_11eb_9040_a683e7d8407alevel0_row9\" class=\"row_heading level0 row9\" >9</th>\n",
       "                        <td id=\"T_0f3c98ac_2625_11eb_9040_a683e7d8407arow9_col0\" class=\"data row9 col0\" >Transformed Train Set</td>\n",
       "                        <td id=\"T_0f3c98ac_2625_11eb_9040_a683e7d8407arow9_col1\" class=\"data row9 col1\" >(9413, 28)</td>\n",
       "            </tr>\n",
       "            <tr>\n",
       "                        <th id=\"T_0f3c98ac_2625_11eb_9040_a683e7d8407alevel0_row10\" class=\"row_heading level0 row10\" >10</th>\n",
       "                        <td id=\"T_0f3c98ac_2625_11eb_9040_a683e7d8407arow10_col0\" class=\"data row10 col0\" >Transformed Test Set</td>\n",
       "                        <td id=\"T_0f3c98ac_2625_11eb_9040_a683e7d8407arow10_col1\" class=\"data row10 col1\" >(2354, 28)</td>\n",
       "            </tr>\n",
       "            <tr>\n",
       "                        <th id=\"T_0f3c98ac_2625_11eb_9040_a683e7d8407alevel0_row11\" class=\"row_heading level0 row11\" >11</th>\n",
       "                        <td id=\"T_0f3c98ac_2625_11eb_9040_a683e7d8407arow11_col0\" class=\"data row11 col0\" >Shuffle Train-Test</td>\n",
       "                        <td id=\"T_0f3c98ac_2625_11eb_9040_a683e7d8407arow11_col1\" class=\"data row11 col1\" >True</td>\n",
       "            </tr>\n",
       "            <tr>\n",
       "                        <th id=\"T_0f3c98ac_2625_11eb_9040_a683e7d8407alevel0_row12\" class=\"row_heading level0 row12\" >12</th>\n",
       "                        <td id=\"T_0f3c98ac_2625_11eb_9040_a683e7d8407arow12_col0\" class=\"data row12 col0\" >Stratify Train-Test</td>\n",
       "                        <td id=\"T_0f3c98ac_2625_11eb_9040_a683e7d8407arow12_col1\" class=\"data row12 col1\" >False</td>\n",
       "            </tr>\n",
       "            <tr>\n",
       "                        <th id=\"T_0f3c98ac_2625_11eb_9040_a683e7d8407alevel0_row13\" class=\"row_heading level0 row13\" >13</th>\n",
       "                        <td id=\"T_0f3c98ac_2625_11eb_9040_a683e7d8407arow13_col0\" class=\"data row13 col0\" >Fold Generator</td>\n",
       "                        <td id=\"T_0f3c98ac_2625_11eb_9040_a683e7d8407arow13_col1\" class=\"data row13 col1\" >KFold</td>\n",
       "            </tr>\n",
       "            <tr>\n",
       "                        <th id=\"T_0f3c98ac_2625_11eb_9040_a683e7d8407alevel0_row14\" class=\"row_heading level0 row14\" >14</th>\n",
       "                        <td id=\"T_0f3c98ac_2625_11eb_9040_a683e7d8407arow14_col0\" class=\"data row14 col0\" >Fold Number</td>\n",
       "                        <td id=\"T_0f3c98ac_2625_11eb_9040_a683e7d8407arow14_col1\" class=\"data row14 col1\" >10</td>\n",
       "            </tr>\n",
       "            <tr>\n",
       "                        <th id=\"T_0f3c98ac_2625_11eb_9040_a683e7d8407alevel0_row15\" class=\"row_heading level0 row15\" >15</th>\n",
       "                        <td id=\"T_0f3c98ac_2625_11eb_9040_a683e7d8407arow15_col0\" class=\"data row15 col0\" >CPU Jobs</td>\n",
       "                        <td id=\"T_0f3c98ac_2625_11eb_9040_a683e7d8407arow15_col1\" class=\"data row15 col1\" >-1</td>\n",
       "            </tr>\n",
       "            <tr>\n",
       "                        <th id=\"T_0f3c98ac_2625_11eb_9040_a683e7d8407alevel0_row16\" class=\"row_heading level0 row16\" >16</th>\n",
       "                        <td id=\"T_0f3c98ac_2625_11eb_9040_a683e7d8407arow16_col0\" class=\"data row16 col0\" >Use GPU</td>\n",
       "                        <td id=\"T_0f3c98ac_2625_11eb_9040_a683e7d8407arow16_col1\" class=\"data row16 col1\" >False</td>\n",
       "            </tr>\n",
       "            <tr>\n",
       "                        <th id=\"T_0f3c98ac_2625_11eb_9040_a683e7d8407alevel0_row17\" class=\"row_heading level0 row17\" >17</th>\n",
       "                        <td id=\"T_0f3c98ac_2625_11eb_9040_a683e7d8407arow17_col0\" class=\"data row17 col0\" >Log Experiment</td>\n",
       "                        <td id=\"T_0f3c98ac_2625_11eb_9040_a683e7d8407arow17_col1\" class=\"data row17 col1\" >False</td>\n",
       "            </tr>\n",
       "            <tr>\n",
       "                        <th id=\"T_0f3c98ac_2625_11eb_9040_a683e7d8407alevel0_row18\" class=\"row_heading level0 row18\" >18</th>\n",
       "                        <td id=\"T_0f3c98ac_2625_11eb_9040_a683e7d8407arow18_col0\" class=\"data row18 col0\" >Experiment Name</td>\n",
       "                        <td id=\"T_0f3c98ac_2625_11eb_9040_a683e7d8407arow18_col1\" class=\"data row18 col1\" >reg-default-name</td>\n",
       "            </tr>\n",
       "            <tr>\n",
       "                        <th id=\"T_0f3c98ac_2625_11eb_9040_a683e7d8407alevel0_row19\" class=\"row_heading level0 row19\" >19</th>\n",
       "                        <td id=\"T_0f3c98ac_2625_11eb_9040_a683e7d8407arow19_col0\" class=\"data row19 col0\" >USI</td>\n",
       "                        <td id=\"T_0f3c98ac_2625_11eb_9040_a683e7d8407arow19_col1\" class=\"data row19 col1\" >6835</td>\n",
       "            </tr>\n",
       "            <tr>\n",
       "                        <th id=\"T_0f3c98ac_2625_11eb_9040_a683e7d8407alevel0_row20\" class=\"row_heading level0 row20\" >20</th>\n",
       "                        <td id=\"T_0f3c98ac_2625_11eb_9040_a683e7d8407arow20_col0\" class=\"data row20 col0\" >Imputation Type</td>\n",
       "                        <td id=\"T_0f3c98ac_2625_11eb_9040_a683e7d8407arow20_col1\" class=\"data row20 col1\" >simple</td>\n",
       "            </tr>\n",
       "            <tr>\n",
       "                        <th id=\"T_0f3c98ac_2625_11eb_9040_a683e7d8407alevel0_row21\" class=\"row_heading level0 row21\" >21</th>\n",
       "                        <td id=\"T_0f3c98ac_2625_11eb_9040_a683e7d8407arow21_col0\" class=\"data row21 col0\" >Iterative Imputation Iteration</td>\n",
       "                        <td id=\"T_0f3c98ac_2625_11eb_9040_a683e7d8407arow21_col1\" class=\"data row21 col1\" >None</td>\n",
       "            </tr>\n",
       "            <tr>\n",
       "                        <th id=\"T_0f3c98ac_2625_11eb_9040_a683e7d8407alevel0_row22\" class=\"row_heading level0 row22\" >22</th>\n",
       "                        <td id=\"T_0f3c98ac_2625_11eb_9040_a683e7d8407arow22_col0\" class=\"data row22 col0\" >Numeric Imputer</td>\n",
       "                        <td id=\"T_0f3c98ac_2625_11eb_9040_a683e7d8407arow22_col1\" class=\"data row22 col1\" >mean</td>\n",
       "            </tr>\n",
       "            <tr>\n",
       "                        <th id=\"T_0f3c98ac_2625_11eb_9040_a683e7d8407alevel0_row23\" class=\"row_heading level0 row23\" >23</th>\n",
       "                        <td id=\"T_0f3c98ac_2625_11eb_9040_a683e7d8407arow23_col0\" class=\"data row23 col0\" >Iterative Imputation Numeric Model</td>\n",
       "                        <td id=\"T_0f3c98ac_2625_11eb_9040_a683e7d8407arow23_col1\" class=\"data row23 col1\" >None</td>\n",
       "            </tr>\n",
       "            <tr>\n",
       "                        <th id=\"T_0f3c98ac_2625_11eb_9040_a683e7d8407alevel0_row24\" class=\"row_heading level0 row24\" >24</th>\n",
       "                        <td id=\"T_0f3c98ac_2625_11eb_9040_a683e7d8407arow24_col0\" class=\"data row24 col0\" >Categorical Imputer</td>\n",
       "                        <td id=\"T_0f3c98ac_2625_11eb_9040_a683e7d8407arow24_col1\" class=\"data row24 col1\" >constant</td>\n",
       "            </tr>\n",
       "            <tr>\n",
       "                        <th id=\"T_0f3c98ac_2625_11eb_9040_a683e7d8407alevel0_row25\" class=\"row_heading level0 row25\" >25</th>\n",
       "                        <td id=\"T_0f3c98ac_2625_11eb_9040_a683e7d8407arow25_col0\" class=\"data row25 col0\" >Iterative Imputation Categorical Model</td>\n",
       "                        <td id=\"T_0f3c98ac_2625_11eb_9040_a683e7d8407arow25_col1\" class=\"data row25 col1\" >None</td>\n",
       "            </tr>\n",
       "            <tr>\n",
       "                        <th id=\"T_0f3c98ac_2625_11eb_9040_a683e7d8407alevel0_row26\" class=\"row_heading level0 row26\" >26</th>\n",
       "                        <td id=\"T_0f3c98ac_2625_11eb_9040_a683e7d8407arow26_col0\" class=\"data row26 col0\" >Unknown Categoricals Handling</td>\n",
       "                        <td id=\"T_0f3c98ac_2625_11eb_9040_a683e7d8407arow26_col1\" class=\"data row26 col1\" >least_frequent</td>\n",
       "            </tr>\n",
       "            <tr>\n",
       "                        <th id=\"T_0f3c98ac_2625_11eb_9040_a683e7d8407alevel0_row27\" class=\"row_heading level0 row27\" >27</th>\n",
       "                        <td id=\"T_0f3c98ac_2625_11eb_9040_a683e7d8407arow27_col0\" class=\"data row27 col0\" >Normalize</td>\n",
       "                        <td id=\"T_0f3c98ac_2625_11eb_9040_a683e7d8407arow27_col1\" class=\"data row27 col1\" >False</td>\n",
       "            </tr>\n",
       "            <tr>\n",
       "                        <th id=\"T_0f3c98ac_2625_11eb_9040_a683e7d8407alevel0_row28\" class=\"row_heading level0 row28\" >28</th>\n",
       "                        <td id=\"T_0f3c98ac_2625_11eb_9040_a683e7d8407arow28_col0\" class=\"data row28 col0\" >Normalize Method</td>\n",
       "                        <td id=\"T_0f3c98ac_2625_11eb_9040_a683e7d8407arow28_col1\" class=\"data row28 col1\" >None</td>\n",
       "            </tr>\n",
       "            <tr>\n",
       "                        <th id=\"T_0f3c98ac_2625_11eb_9040_a683e7d8407alevel0_row29\" class=\"row_heading level0 row29\" >29</th>\n",
       "                        <td id=\"T_0f3c98ac_2625_11eb_9040_a683e7d8407arow29_col0\" class=\"data row29 col0\" >Transformation</td>\n",
       "                        <td id=\"T_0f3c98ac_2625_11eb_9040_a683e7d8407arow29_col1\" class=\"data row29 col1\" >False</td>\n",
       "            </tr>\n",
       "            <tr>\n",
       "                        <th id=\"T_0f3c98ac_2625_11eb_9040_a683e7d8407alevel0_row30\" class=\"row_heading level0 row30\" >30</th>\n",
       "                        <td id=\"T_0f3c98ac_2625_11eb_9040_a683e7d8407arow30_col0\" class=\"data row30 col0\" >Transformation Method</td>\n",
       "                        <td id=\"T_0f3c98ac_2625_11eb_9040_a683e7d8407arow30_col1\" class=\"data row30 col1\" >None</td>\n",
       "            </tr>\n",
       "            <tr>\n",
       "                        <th id=\"T_0f3c98ac_2625_11eb_9040_a683e7d8407alevel0_row31\" class=\"row_heading level0 row31\" >31</th>\n",
       "                        <td id=\"T_0f3c98ac_2625_11eb_9040_a683e7d8407arow31_col0\" class=\"data row31 col0\" >PCA</td>\n",
       "                        <td id=\"T_0f3c98ac_2625_11eb_9040_a683e7d8407arow31_col1\" class=\"data row31 col1\" >False</td>\n",
       "            </tr>\n",
       "            <tr>\n",
       "                        <th id=\"T_0f3c98ac_2625_11eb_9040_a683e7d8407alevel0_row32\" class=\"row_heading level0 row32\" >32</th>\n",
       "                        <td id=\"T_0f3c98ac_2625_11eb_9040_a683e7d8407arow32_col0\" class=\"data row32 col0\" >PCA Method</td>\n",
       "                        <td id=\"T_0f3c98ac_2625_11eb_9040_a683e7d8407arow32_col1\" class=\"data row32 col1\" >None</td>\n",
       "            </tr>\n",
       "            <tr>\n",
       "                        <th id=\"T_0f3c98ac_2625_11eb_9040_a683e7d8407alevel0_row33\" class=\"row_heading level0 row33\" >33</th>\n",
       "                        <td id=\"T_0f3c98ac_2625_11eb_9040_a683e7d8407arow33_col0\" class=\"data row33 col0\" >PCA Components</td>\n",
       "                        <td id=\"T_0f3c98ac_2625_11eb_9040_a683e7d8407arow33_col1\" class=\"data row33 col1\" >None</td>\n",
       "            </tr>\n",
       "            <tr>\n",
       "                        <th id=\"T_0f3c98ac_2625_11eb_9040_a683e7d8407alevel0_row34\" class=\"row_heading level0 row34\" >34</th>\n",
       "                        <td id=\"T_0f3c98ac_2625_11eb_9040_a683e7d8407arow34_col0\" class=\"data row34 col0\" >Ignore Low Variance</td>\n",
       "                        <td id=\"T_0f3c98ac_2625_11eb_9040_a683e7d8407arow34_col1\" class=\"data row34 col1\" >False</td>\n",
       "            </tr>\n",
       "            <tr>\n",
       "                        <th id=\"T_0f3c98ac_2625_11eb_9040_a683e7d8407alevel0_row35\" class=\"row_heading level0 row35\" >35</th>\n",
       "                        <td id=\"T_0f3c98ac_2625_11eb_9040_a683e7d8407arow35_col0\" class=\"data row35 col0\" >Combine Rare Levels</td>\n",
       "                        <td id=\"T_0f3c98ac_2625_11eb_9040_a683e7d8407arow35_col1\" class=\"data row35 col1\" >False</td>\n",
       "            </tr>\n",
       "            <tr>\n",
       "                        <th id=\"T_0f3c98ac_2625_11eb_9040_a683e7d8407alevel0_row36\" class=\"row_heading level0 row36\" >36</th>\n",
       "                        <td id=\"T_0f3c98ac_2625_11eb_9040_a683e7d8407arow36_col0\" class=\"data row36 col0\" >Rare Level Threshold</td>\n",
       "                        <td id=\"T_0f3c98ac_2625_11eb_9040_a683e7d8407arow36_col1\" class=\"data row36 col1\" >None</td>\n",
       "            </tr>\n",
       "            <tr>\n",
       "                        <th id=\"T_0f3c98ac_2625_11eb_9040_a683e7d8407alevel0_row37\" class=\"row_heading level0 row37\" >37</th>\n",
       "                        <td id=\"T_0f3c98ac_2625_11eb_9040_a683e7d8407arow37_col0\" class=\"data row37 col0\" >Numeric Binning</td>\n",
       "                        <td id=\"T_0f3c98ac_2625_11eb_9040_a683e7d8407arow37_col1\" class=\"data row37 col1\" >False</td>\n",
       "            </tr>\n",
       "            <tr>\n",
       "                        <th id=\"T_0f3c98ac_2625_11eb_9040_a683e7d8407alevel0_row38\" class=\"row_heading level0 row38\" >38</th>\n",
       "                        <td id=\"T_0f3c98ac_2625_11eb_9040_a683e7d8407arow38_col0\" class=\"data row38 col0\" >Remove Outliers</td>\n",
       "                        <td id=\"T_0f3c98ac_2625_11eb_9040_a683e7d8407arow38_col1\" class=\"data row38 col1\" >False</td>\n",
       "            </tr>\n",
       "            <tr>\n",
       "                        <th id=\"T_0f3c98ac_2625_11eb_9040_a683e7d8407alevel0_row39\" class=\"row_heading level0 row39\" >39</th>\n",
       "                        <td id=\"T_0f3c98ac_2625_11eb_9040_a683e7d8407arow39_col0\" class=\"data row39 col0\" >Outliers Threshold</td>\n",
       "                        <td id=\"T_0f3c98ac_2625_11eb_9040_a683e7d8407arow39_col1\" class=\"data row39 col1\" >None</td>\n",
       "            </tr>\n",
       "            <tr>\n",
       "                        <th id=\"T_0f3c98ac_2625_11eb_9040_a683e7d8407alevel0_row40\" class=\"row_heading level0 row40\" >40</th>\n",
       "                        <td id=\"T_0f3c98ac_2625_11eb_9040_a683e7d8407arow40_col0\" class=\"data row40 col0\" >Remove Multicollinearity</td>\n",
       "                        <td id=\"T_0f3c98ac_2625_11eb_9040_a683e7d8407arow40_col1\" class=\"data row40 col1\" >False</td>\n",
       "            </tr>\n",
       "            <tr>\n",
       "                        <th id=\"T_0f3c98ac_2625_11eb_9040_a683e7d8407alevel0_row41\" class=\"row_heading level0 row41\" >41</th>\n",
       "                        <td id=\"T_0f3c98ac_2625_11eb_9040_a683e7d8407arow41_col0\" class=\"data row41 col0\" >Multicollinearity Threshold</td>\n",
       "                        <td id=\"T_0f3c98ac_2625_11eb_9040_a683e7d8407arow41_col1\" class=\"data row41 col1\" >None</td>\n",
       "            </tr>\n",
       "            <tr>\n",
       "                        <th id=\"T_0f3c98ac_2625_11eb_9040_a683e7d8407alevel0_row42\" class=\"row_heading level0 row42\" >42</th>\n",
       "                        <td id=\"T_0f3c98ac_2625_11eb_9040_a683e7d8407arow42_col0\" class=\"data row42 col0\" >Clustering</td>\n",
       "                        <td id=\"T_0f3c98ac_2625_11eb_9040_a683e7d8407arow42_col1\" class=\"data row42 col1\" >False</td>\n",
       "            </tr>\n",
       "            <tr>\n",
       "                        <th id=\"T_0f3c98ac_2625_11eb_9040_a683e7d8407alevel0_row43\" class=\"row_heading level0 row43\" >43</th>\n",
       "                        <td id=\"T_0f3c98ac_2625_11eb_9040_a683e7d8407arow43_col0\" class=\"data row43 col0\" >Clustering Iteration</td>\n",
       "                        <td id=\"T_0f3c98ac_2625_11eb_9040_a683e7d8407arow43_col1\" class=\"data row43 col1\" >None</td>\n",
       "            </tr>\n",
       "            <tr>\n",
       "                        <th id=\"T_0f3c98ac_2625_11eb_9040_a683e7d8407alevel0_row44\" class=\"row_heading level0 row44\" >44</th>\n",
       "                        <td id=\"T_0f3c98ac_2625_11eb_9040_a683e7d8407arow44_col0\" class=\"data row44 col0\" >Polynomial Features</td>\n",
       "                        <td id=\"T_0f3c98ac_2625_11eb_9040_a683e7d8407arow44_col1\" class=\"data row44 col1\" >False</td>\n",
       "            </tr>\n",
       "            <tr>\n",
       "                        <th id=\"T_0f3c98ac_2625_11eb_9040_a683e7d8407alevel0_row45\" class=\"row_heading level0 row45\" >45</th>\n",
       "                        <td id=\"T_0f3c98ac_2625_11eb_9040_a683e7d8407arow45_col0\" class=\"data row45 col0\" >Polynomial Degree</td>\n",
       "                        <td id=\"T_0f3c98ac_2625_11eb_9040_a683e7d8407arow45_col1\" class=\"data row45 col1\" >None</td>\n",
       "            </tr>\n",
       "            <tr>\n",
       "                        <th id=\"T_0f3c98ac_2625_11eb_9040_a683e7d8407alevel0_row46\" class=\"row_heading level0 row46\" >46</th>\n",
       "                        <td id=\"T_0f3c98ac_2625_11eb_9040_a683e7d8407arow46_col0\" class=\"data row46 col0\" >Trignometry Features</td>\n",
       "                        <td id=\"T_0f3c98ac_2625_11eb_9040_a683e7d8407arow46_col1\" class=\"data row46 col1\" >False</td>\n",
       "            </tr>\n",
       "            <tr>\n",
       "                        <th id=\"T_0f3c98ac_2625_11eb_9040_a683e7d8407alevel0_row47\" class=\"row_heading level0 row47\" >47</th>\n",
       "                        <td id=\"T_0f3c98ac_2625_11eb_9040_a683e7d8407arow47_col0\" class=\"data row47 col0\" >Polynomial Threshold</td>\n",
       "                        <td id=\"T_0f3c98ac_2625_11eb_9040_a683e7d8407arow47_col1\" class=\"data row47 col1\" >None</td>\n",
       "            </tr>\n",
       "            <tr>\n",
       "                        <th id=\"T_0f3c98ac_2625_11eb_9040_a683e7d8407alevel0_row48\" class=\"row_heading level0 row48\" >48</th>\n",
       "                        <td id=\"T_0f3c98ac_2625_11eb_9040_a683e7d8407arow48_col0\" class=\"data row48 col0\" >Group Features</td>\n",
       "                        <td id=\"T_0f3c98ac_2625_11eb_9040_a683e7d8407arow48_col1\" class=\"data row48 col1\" >False</td>\n",
       "            </tr>\n",
       "            <tr>\n",
       "                        <th id=\"T_0f3c98ac_2625_11eb_9040_a683e7d8407alevel0_row49\" class=\"row_heading level0 row49\" >49</th>\n",
       "                        <td id=\"T_0f3c98ac_2625_11eb_9040_a683e7d8407arow49_col0\" class=\"data row49 col0\" >Feature Selection</td>\n",
       "                        <td id=\"T_0f3c98ac_2625_11eb_9040_a683e7d8407arow49_col1\" class=\"data row49 col1\" >False</td>\n",
       "            </tr>\n",
       "            <tr>\n",
       "                        <th id=\"T_0f3c98ac_2625_11eb_9040_a683e7d8407alevel0_row50\" class=\"row_heading level0 row50\" >50</th>\n",
       "                        <td id=\"T_0f3c98ac_2625_11eb_9040_a683e7d8407arow50_col0\" class=\"data row50 col0\" >Features Selection Threshold</td>\n",
       "                        <td id=\"T_0f3c98ac_2625_11eb_9040_a683e7d8407arow50_col1\" class=\"data row50 col1\" >None</td>\n",
       "            </tr>\n",
       "            <tr>\n",
       "                        <th id=\"T_0f3c98ac_2625_11eb_9040_a683e7d8407alevel0_row51\" class=\"row_heading level0 row51\" >51</th>\n",
       "                        <td id=\"T_0f3c98ac_2625_11eb_9040_a683e7d8407arow51_col0\" class=\"data row51 col0\" >Feature Interaction</td>\n",
       "                        <td id=\"T_0f3c98ac_2625_11eb_9040_a683e7d8407arow51_col1\" class=\"data row51 col1\" >False</td>\n",
       "            </tr>\n",
       "            <tr>\n",
       "                        <th id=\"T_0f3c98ac_2625_11eb_9040_a683e7d8407alevel0_row52\" class=\"row_heading level0 row52\" >52</th>\n",
       "                        <td id=\"T_0f3c98ac_2625_11eb_9040_a683e7d8407arow52_col0\" class=\"data row52 col0\" >Feature Ratio</td>\n",
       "                        <td id=\"T_0f3c98ac_2625_11eb_9040_a683e7d8407arow52_col1\" class=\"data row52 col1\" >False</td>\n",
       "            </tr>\n",
       "            <tr>\n",
       "                        <th id=\"T_0f3c98ac_2625_11eb_9040_a683e7d8407alevel0_row53\" class=\"row_heading level0 row53\" >53</th>\n",
       "                        <td id=\"T_0f3c98ac_2625_11eb_9040_a683e7d8407arow53_col0\" class=\"data row53 col0\" >Interaction Threshold</td>\n",
       "                        <td id=\"T_0f3c98ac_2625_11eb_9040_a683e7d8407arow53_col1\" class=\"data row53 col1\" >None</td>\n",
       "            </tr>\n",
       "            <tr>\n",
       "                        <th id=\"T_0f3c98ac_2625_11eb_9040_a683e7d8407alevel0_row54\" class=\"row_heading level0 row54\" >54</th>\n",
       "                        <td id=\"T_0f3c98ac_2625_11eb_9040_a683e7d8407arow54_col0\" class=\"data row54 col0\" >Transform Target</td>\n",
       "                        <td id=\"T_0f3c98ac_2625_11eb_9040_a683e7d8407arow54_col1\" class=\"data row54 col1\" >False</td>\n",
       "            </tr>\n",
       "            <tr>\n",
       "                        <th id=\"T_0f3c98ac_2625_11eb_9040_a683e7d8407alevel0_row55\" class=\"row_heading level0 row55\" >55</th>\n",
       "                        <td id=\"T_0f3c98ac_2625_11eb_9040_a683e7d8407arow55_col0\" class=\"data row55 col0\" >Transform Target Method</td>\n",
       "                        <td id=\"T_0f3c98ac_2625_11eb_9040_a683e7d8407arow55_col1\" class=\"data row55 col1\" >box-cox</td>\n",
       "            </tr>\n",
       "    </tbody></table>"
      ],
      "text/plain": [
       "<pandas.io.formats.style.Styler at 0x159981a90>"
      ]
     },
     "metadata": {},
     "output_type": "display_data"
    }
   ],
   "source": [
    "from pycaret.regression import *\n",
    "data = setup(data = train, target = 'label', train_size=0.8)"
   ]
  },
  {
   "cell_type": "markdown",
   "metadata": {},
   "source": [
    "* catboost, xgboost, gbr"
   ]
  },
  {
   "cell_type": "code",
   "execution_count": 77,
   "metadata": {},
   "outputs": [
    {
     "data": {
      "text/html": [
       "<style  type=\"text/css\" >\n",
       "    #T_8b261842_2627_11eb_9040_a683e7d8407arow10_col0 {\n",
       "            background:  yellow;\n",
       "        }    #T_8b261842_2627_11eb_9040_a683e7d8407arow10_col1 {\n",
       "            background:  yellow;\n",
       "        }    #T_8b261842_2627_11eb_9040_a683e7d8407arow10_col2 {\n",
       "            background:  yellow;\n",
       "        }    #T_8b261842_2627_11eb_9040_a683e7d8407arow10_col3 {\n",
       "            background:  yellow;\n",
       "        }    #T_8b261842_2627_11eb_9040_a683e7d8407arow10_col4 {\n",
       "            background:  yellow;\n",
       "        }    #T_8b261842_2627_11eb_9040_a683e7d8407arow10_col5 {\n",
       "            background:  yellow;\n",
       "        }</style><table id=\"T_8b261842_2627_11eb_9040_a683e7d8407a\" ><thead>    <tr>        <th class=\"blank level0\" ></th>        <th class=\"col_heading level0 col0\" >MAE</th>        <th class=\"col_heading level0 col1\" >MSE</th>        <th class=\"col_heading level0 col2\" >RMSE</th>        <th class=\"col_heading level0 col3\" >R2</th>        <th class=\"col_heading level0 col4\" >RMSLE</th>        <th class=\"col_heading level0 col5\" >MAPE</th>    </tr></thead><tbody>\n",
       "                <tr>\n",
       "                        <th id=\"T_8b261842_2627_11eb_9040_a683e7d8407alevel0_row0\" class=\"row_heading level0 row0\" >0</th>\n",
       "                        <td id=\"T_8b261842_2627_11eb_9040_a683e7d8407arow0_col0\" class=\"data row0 col0\" >369.9</td>\n",
       "                        <td id=\"T_8b261842_2627_11eb_9040_a683e7d8407arow0_col1\" class=\"data row0 col1\" >4.016e+05</td>\n",
       "                        <td id=\"T_8b261842_2627_11eb_9040_a683e7d8407arow0_col2\" class=\"data row0 col2\" >633.7</td>\n",
       "                        <td id=\"T_8b261842_2627_11eb_9040_a683e7d8407arow0_col3\" class=\"data row0 col3\" >0.7654</td>\n",
       "                        <td id=\"T_8b261842_2627_11eb_9040_a683e7d8407arow0_col4\" class=\"data row0 col4\" >0.6153</td>\n",
       "                        <td id=\"T_8b261842_2627_11eb_9040_a683e7d8407arow0_col5\" class=\"data row0 col5\" >10.29</td>\n",
       "            </tr>\n",
       "            <tr>\n",
       "                        <th id=\"T_8b261842_2627_11eb_9040_a683e7d8407alevel0_row1\" class=\"row_heading level0 row1\" >1</th>\n",
       "                        <td id=\"T_8b261842_2627_11eb_9040_a683e7d8407arow1_col0\" class=\"data row1 col0\" >362.1</td>\n",
       "                        <td id=\"T_8b261842_2627_11eb_9040_a683e7d8407arow1_col1\" class=\"data row1 col1\" >6.361e+05</td>\n",
       "                        <td id=\"T_8b261842_2627_11eb_9040_a683e7d8407arow1_col2\" class=\"data row1 col2\" >797.6</td>\n",
       "                        <td id=\"T_8b261842_2627_11eb_9040_a683e7d8407arow1_col3\" class=\"data row1 col3\" >0.716</td>\n",
       "                        <td id=\"T_8b261842_2627_11eb_9040_a683e7d8407arow1_col4\" class=\"data row1 col4\" >0.3663</td>\n",
       "                        <td id=\"T_8b261842_2627_11eb_9040_a683e7d8407arow1_col5\" class=\"data row1 col5\" >0.2964</td>\n",
       "            </tr>\n",
       "            <tr>\n",
       "                        <th id=\"T_8b261842_2627_11eb_9040_a683e7d8407alevel0_row2\" class=\"row_heading level0 row2\" >2</th>\n",
       "                        <td id=\"T_8b261842_2627_11eb_9040_a683e7d8407arow2_col0\" class=\"data row2 col0\" >373.1</td>\n",
       "                        <td id=\"T_8b261842_2627_11eb_9040_a683e7d8407arow2_col1\" class=\"data row2 col1\" >5.8e+05</td>\n",
       "                        <td id=\"T_8b261842_2627_11eb_9040_a683e7d8407arow2_col2\" class=\"data row2 col2\" >761.6</td>\n",
       "                        <td id=\"T_8b261842_2627_11eb_9040_a683e7d8407arow2_col3\" class=\"data row2 col3\" >0.7291</td>\n",
       "                        <td id=\"T_8b261842_2627_11eb_9040_a683e7d8407arow2_col4\" class=\"data row2 col4\" >0.5789</td>\n",
       "                        <td id=\"T_8b261842_2627_11eb_9040_a683e7d8407arow2_col5\" class=\"data row2 col5\" >6.156</td>\n",
       "            </tr>\n",
       "            <tr>\n",
       "                        <th id=\"T_8b261842_2627_11eb_9040_a683e7d8407alevel0_row3\" class=\"row_heading level0 row3\" >3</th>\n",
       "                        <td id=\"T_8b261842_2627_11eb_9040_a683e7d8407arow3_col0\" class=\"data row3 col0\" >350.9</td>\n",
       "                        <td id=\"T_8b261842_2627_11eb_9040_a683e7d8407arow3_col1\" class=\"data row3 col1\" >4.147e+05</td>\n",
       "                        <td id=\"T_8b261842_2627_11eb_9040_a683e7d8407arow3_col2\" class=\"data row3 col2\" >644</td>\n",
       "                        <td id=\"T_8b261842_2627_11eb_9040_a683e7d8407arow3_col3\" class=\"data row3 col3\" >0.8035</td>\n",
       "                        <td id=\"T_8b261842_2627_11eb_9040_a683e7d8407arow3_col4\" class=\"data row3 col4\" >0.3806</td>\n",
       "                        <td id=\"T_8b261842_2627_11eb_9040_a683e7d8407arow3_col5\" class=\"data row3 col5\" >0.4034</td>\n",
       "            </tr>\n",
       "            <tr>\n",
       "                        <th id=\"T_8b261842_2627_11eb_9040_a683e7d8407alevel0_row4\" class=\"row_heading level0 row4\" >4</th>\n",
       "                        <td id=\"T_8b261842_2627_11eb_9040_a683e7d8407arow4_col0\" class=\"data row4 col0\" >362.2</td>\n",
       "                        <td id=\"T_8b261842_2627_11eb_9040_a683e7d8407arow4_col1\" class=\"data row4 col1\" >4.622e+05</td>\n",
       "                        <td id=\"T_8b261842_2627_11eb_9040_a683e7d8407arow4_col2\" class=\"data row4 col2\" >679.8</td>\n",
       "                        <td id=\"T_8b261842_2627_11eb_9040_a683e7d8407arow4_col3\" class=\"data row4 col3\" >0.756</td>\n",
       "                        <td id=\"T_8b261842_2627_11eb_9040_a683e7d8407arow4_col4\" class=\"data row4 col4\" >0.4758</td>\n",
       "                        <td id=\"T_8b261842_2627_11eb_9040_a683e7d8407arow4_col5\" class=\"data row4 col5\" >4.01</td>\n",
       "            </tr>\n",
       "            <tr>\n",
       "                        <th id=\"T_8b261842_2627_11eb_9040_a683e7d8407alevel0_row5\" class=\"row_heading level0 row5\" >5</th>\n",
       "                        <td id=\"T_8b261842_2627_11eb_9040_a683e7d8407arow5_col0\" class=\"data row5 col0\" >372.3</td>\n",
       "                        <td id=\"T_8b261842_2627_11eb_9040_a683e7d8407arow5_col1\" class=\"data row5 col1\" >4.309e+05</td>\n",
       "                        <td id=\"T_8b261842_2627_11eb_9040_a683e7d8407arow5_col2\" class=\"data row5 col2\" >656.4</td>\n",
       "                        <td id=\"T_8b261842_2627_11eb_9040_a683e7d8407arow5_col3\" class=\"data row5 col3\" >0.7714</td>\n",
       "                        <td id=\"T_8b261842_2627_11eb_9040_a683e7d8407arow5_col4\" class=\"data row5 col4\" >0.5326</td>\n",
       "                        <td id=\"T_8b261842_2627_11eb_9040_a683e7d8407arow5_col5\" class=\"data row5 col5\" >3.943</td>\n",
       "            </tr>\n",
       "            <tr>\n",
       "                        <th id=\"T_8b261842_2627_11eb_9040_a683e7d8407alevel0_row6\" class=\"row_heading level0 row6\" >6</th>\n",
       "                        <td id=\"T_8b261842_2627_11eb_9040_a683e7d8407arow6_col0\" class=\"data row6 col0\" >350</td>\n",
       "                        <td id=\"T_8b261842_2627_11eb_9040_a683e7d8407arow6_col1\" class=\"data row6 col1\" >4.031e+05</td>\n",
       "                        <td id=\"T_8b261842_2627_11eb_9040_a683e7d8407arow6_col2\" class=\"data row6 col2\" >634.9</td>\n",
       "                        <td id=\"T_8b261842_2627_11eb_9040_a683e7d8407arow6_col3\" class=\"data row6 col3\" >0.7262</td>\n",
       "                        <td id=\"T_8b261842_2627_11eb_9040_a683e7d8407arow6_col4\" class=\"data row6 col4\" >0.7067</td>\n",
       "                        <td id=\"T_8b261842_2627_11eb_9040_a683e7d8407arow6_col5\" class=\"data row6 col5\" >14.19</td>\n",
       "            </tr>\n",
       "            <tr>\n",
       "                        <th id=\"T_8b261842_2627_11eb_9040_a683e7d8407alevel0_row7\" class=\"row_heading level0 row7\" >7</th>\n",
       "                        <td id=\"T_8b261842_2627_11eb_9040_a683e7d8407arow7_col0\" class=\"data row7 col0\" >356.9</td>\n",
       "                        <td id=\"T_8b261842_2627_11eb_9040_a683e7d8407arow7_col1\" class=\"data row7 col1\" >4.47e+05</td>\n",
       "                        <td id=\"T_8b261842_2627_11eb_9040_a683e7d8407arow7_col2\" class=\"data row7 col2\" >668.6</td>\n",
       "                        <td id=\"T_8b261842_2627_11eb_9040_a683e7d8407arow7_col3\" class=\"data row7 col3\" >0.7687</td>\n",
       "                        <td id=\"T_8b261842_2627_11eb_9040_a683e7d8407arow7_col4\" class=\"data row7 col4\" >0.6282</td>\n",
       "                        <td id=\"T_8b261842_2627_11eb_9040_a683e7d8407arow7_col5\" class=\"data row7 col5\" >9.493</td>\n",
       "            </tr>\n",
       "            <tr>\n",
       "                        <th id=\"T_8b261842_2627_11eb_9040_a683e7d8407alevel0_row8\" class=\"row_heading level0 row8\" >8</th>\n",
       "                        <td id=\"T_8b261842_2627_11eb_9040_a683e7d8407arow8_col0\" class=\"data row8 col0\" >343.1</td>\n",
       "                        <td id=\"T_8b261842_2627_11eb_9040_a683e7d8407arow8_col1\" class=\"data row8 col1\" >3.99e+05</td>\n",
       "                        <td id=\"T_8b261842_2627_11eb_9040_a683e7d8407arow8_col2\" class=\"data row8 col2\" >631.7</td>\n",
       "                        <td id=\"T_8b261842_2627_11eb_9040_a683e7d8407arow8_col3\" class=\"data row8 col3\" >0.8093</td>\n",
       "                        <td id=\"T_8b261842_2627_11eb_9040_a683e7d8407arow8_col4\" class=\"data row8 col4\" >0.4983</td>\n",
       "                        <td id=\"T_8b261842_2627_11eb_9040_a683e7d8407arow8_col5\" class=\"data row8 col5\" >5.601</td>\n",
       "            </tr>\n",
       "            <tr>\n",
       "                        <th id=\"T_8b261842_2627_11eb_9040_a683e7d8407alevel0_row9\" class=\"row_heading level0 row9\" >9</th>\n",
       "                        <td id=\"T_8b261842_2627_11eb_9040_a683e7d8407arow9_col0\" class=\"data row9 col0\" >314.5</td>\n",
       "                        <td id=\"T_8b261842_2627_11eb_9040_a683e7d8407arow9_col1\" class=\"data row9 col1\" >2.893e+05</td>\n",
       "                        <td id=\"T_8b261842_2627_11eb_9040_a683e7d8407arow9_col2\" class=\"data row9 col2\" >537.9</td>\n",
       "                        <td id=\"T_8b261842_2627_11eb_9040_a683e7d8407arow9_col3\" class=\"data row9 col3\" >0.8404</td>\n",
       "                        <td id=\"T_8b261842_2627_11eb_9040_a683e7d8407arow9_col4\" class=\"data row9 col4\" >0.4929</td>\n",
       "                        <td id=\"T_8b261842_2627_11eb_9040_a683e7d8407arow9_col5\" class=\"data row9 col5\" >9.621</td>\n",
       "            </tr>\n",
       "            <tr>\n",
       "                        <th id=\"T_8b261842_2627_11eb_9040_a683e7d8407alevel0_row10\" class=\"row_heading level0 row10\" >Mean</th>\n",
       "                        <td id=\"T_8b261842_2627_11eb_9040_a683e7d8407arow10_col0\" class=\"data row10 col0\" >355.5</td>\n",
       "                        <td id=\"T_8b261842_2627_11eb_9040_a683e7d8407arow10_col1\" class=\"data row10 col1\" >4.464e+05</td>\n",
       "                        <td id=\"T_8b261842_2627_11eb_9040_a683e7d8407arow10_col2\" class=\"data row10 col2\" >664.6</td>\n",
       "                        <td id=\"T_8b261842_2627_11eb_9040_a683e7d8407arow10_col3\" class=\"data row10 col3\" >0.7686</td>\n",
       "                        <td id=\"T_8b261842_2627_11eb_9040_a683e7d8407arow10_col4\" class=\"data row10 col4\" >0.5275</td>\n",
       "                        <td id=\"T_8b261842_2627_11eb_9040_a683e7d8407arow10_col5\" class=\"data row10 col5\" >6.401</td>\n",
       "            </tr>\n",
       "            <tr>\n",
       "                        <th id=\"T_8b261842_2627_11eb_9040_a683e7d8407alevel0_row11\" class=\"row_heading level0 row11\" >SD</th>\n",
       "                        <td id=\"T_8b261842_2627_11eb_9040_a683e7d8407arow11_col0\" class=\"data row11 col0\" >16.68</td>\n",
       "                        <td id=\"T_8b261842_2627_11eb_9040_a683e7d8407arow11_col1\" class=\"data row11 col1\" >9.281e+04</td>\n",
       "                        <td id=\"T_8b261842_2627_11eb_9040_a683e7d8407arow11_col2\" class=\"data row11 col2\" >68.41</td>\n",
       "                        <td id=\"T_8b261842_2627_11eb_9040_a683e7d8407arow11_col3\" class=\"data row11 col3\" >0.0378</td>\n",
       "                        <td id=\"T_8b261842_2627_11eb_9040_a683e7d8407arow11_col4\" class=\"data row11 col4\" >0.1024</td>\n",
       "                        <td id=\"T_8b261842_2627_11eb_9040_a683e7d8407arow11_col5\" class=\"data row11 col5\" >4.259</td>\n",
       "            </tr>\n",
       "    </tbody></table>"
      ],
      "text/plain": [
       "<pandas.io.formats.style.Styler at 0x15772b450>"
      ]
     },
     "metadata": {},
     "output_type": "display_data"
    }
   ],
   "source": [
    "catb = create_model('catboost')"
   ]
  },
  {
   "cell_type": "code",
   "execution_count": 67,
   "metadata": {},
   "outputs": [
    {
     "data": {
      "text/html": [
       "<style  type=\"text/css\" >\n",
       "    #T_85f05254_2625_11eb_9040_a683e7d8407arow10_col0 {\n",
       "            background:  yellow;\n",
       "        }    #T_85f05254_2625_11eb_9040_a683e7d8407arow10_col1 {\n",
       "            background:  yellow;\n",
       "        }    #T_85f05254_2625_11eb_9040_a683e7d8407arow10_col2 {\n",
       "            background:  yellow;\n",
       "        }    #T_85f05254_2625_11eb_9040_a683e7d8407arow10_col3 {\n",
       "            background:  yellow;\n",
       "        }    #T_85f05254_2625_11eb_9040_a683e7d8407arow10_col4 {\n",
       "            background:  yellow;\n",
       "        }    #T_85f05254_2625_11eb_9040_a683e7d8407arow10_col5 {\n",
       "            background:  yellow;\n",
       "        }</style><table id=\"T_85f05254_2625_11eb_9040_a683e7d8407a\" ><thead>    <tr>        <th class=\"blank level0\" ></th>        <th class=\"col_heading level0 col0\" >MAE</th>        <th class=\"col_heading level0 col1\" >MSE</th>        <th class=\"col_heading level0 col2\" >RMSE</th>        <th class=\"col_heading level0 col3\" >R2</th>        <th class=\"col_heading level0 col4\" >RMSLE</th>        <th class=\"col_heading level0 col5\" >MAPE</th>    </tr></thead><tbody>\n",
       "                <tr>\n",
       "                        <th id=\"T_85f05254_2625_11eb_9040_a683e7d8407alevel0_row0\" class=\"row_heading level0 row0\" >0</th>\n",
       "                        <td id=\"T_85f05254_2625_11eb_9040_a683e7d8407arow0_col0\" class=\"data row0 col0\" >380.5</td>\n",
       "                        <td id=\"T_85f05254_2625_11eb_9040_a683e7d8407arow0_col1\" class=\"data row0 col1\" >4.403e+05</td>\n",
       "                        <td id=\"T_85f05254_2625_11eb_9040_a683e7d8407arow0_col2\" class=\"data row0 col2\" >663.5</td>\n",
       "                        <td id=\"T_85f05254_2625_11eb_9040_a683e7d8407arow0_col3\" class=\"data row0 col3\" >0.7428</td>\n",
       "                        <td id=\"T_85f05254_2625_11eb_9040_a683e7d8407arow0_col4\" class=\"data row0 col4\" >0.6264</td>\n",
       "                        <td id=\"T_85f05254_2625_11eb_9040_a683e7d8407arow0_col5\" class=\"data row0 col5\" >10.85</td>\n",
       "            </tr>\n",
       "            <tr>\n",
       "                        <th id=\"T_85f05254_2625_11eb_9040_a683e7d8407alevel0_row1\" class=\"row_heading level0 row1\" >1</th>\n",
       "                        <td id=\"T_85f05254_2625_11eb_9040_a683e7d8407arow1_col0\" class=\"data row1 col0\" >363.6</td>\n",
       "                        <td id=\"T_85f05254_2625_11eb_9040_a683e7d8407arow1_col1\" class=\"data row1 col1\" >6.329e+05</td>\n",
       "                        <td id=\"T_85f05254_2625_11eb_9040_a683e7d8407arow1_col2\" class=\"data row1 col2\" >795.5</td>\n",
       "                        <td id=\"T_85f05254_2625_11eb_9040_a683e7d8407arow1_col3\" class=\"data row1 col3\" >0.7175</td>\n",
       "                        <td id=\"T_85f05254_2625_11eb_9040_a683e7d8407arow1_col4\" class=\"data row1 col4\" >0.3793</td>\n",
       "                        <td id=\"T_85f05254_2625_11eb_9040_a683e7d8407arow1_col5\" class=\"data row1 col5\" >0.2895</td>\n",
       "            </tr>\n",
       "            <tr>\n",
       "                        <th id=\"T_85f05254_2625_11eb_9040_a683e7d8407alevel0_row2\" class=\"row_heading level0 row2\" >2</th>\n",
       "                        <td id=\"T_85f05254_2625_11eb_9040_a683e7d8407arow2_col0\" class=\"data row2 col0\" >372.6</td>\n",
       "                        <td id=\"T_85f05254_2625_11eb_9040_a683e7d8407arow2_col1\" class=\"data row2 col1\" >5.719e+05</td>\n",
       "                        <td id=\"T_85f05254_2625_11eb_9040_a683e7d8407arow2_col2\" class=\"data row2 col2\" >756.2</td>\n",
       "                        <td id=\"T_85f05254_2625_11eb_9040_a683e7d8407arow2_col3\" class=\"data row2 col3\" >0.7329</td>\n",
       "                        <td id=\"T_85f05254_2625_11eb_9040_a683e7d8407arow2_col4\" class=\"data row2 col4\" >0.5765</td>\n",
       "                        <td id=\"T_85f05254_2625_11eb_9040_a683e7d8407arow2_col5\" class=\"data row2 col5\" >6.174</td>\n",
       "            </tr>\n",
       "            <tr>\n",
       "                        <th id=\"T_85f05254_2625_11eb_9040_a683e7d8407alevel0_row3\" class=\"row_heading level0 row3\" >3</th>\n",
       "                        <td id=\"T_85f05254_2625_11eb_9040_a683e7d8407arow3_col0\" class=\"data row3 col0\" >357.4</td>\n",
       "                        <td id=\"T_85f05254_2625_11eb_9040_a683e7d8407arow3_col1\" class=\"data row3 col1\" >4.545e+05</td>\n",
       "                        <td id=\"T_85f05254_2625_11eb_9040_a683e7d8407arow3_col2\" class=\"data row3 col2\" >674.2</td>\n",
       "                        <td id=\"T_85f05254_2625_11eb_9040_a683e7d8407arow3_col3\" class=\"data row3 col3\" >0.7846</td>\n",
       "                        <td id=\"T_85f05254_2625_11eb_9040_a683e7d8407arow3_col4\" class=\"data row3 col4\" >0.4112</td>\n",
       "                        <td id=\"T_85f05254_2625_11eb_9040_a683e7d8407arow3_col5\" class=\"data row3 col5\" >0.4098</td>\n",
       "            </tr>\n",
       "            <tr>\n",
       "                        <th id=\"T_85f05254_2625_11eb_9040_a683e7d8407alevel0_row4\" class=\"row_heading level0 row4\" >4</th>\n",
       "                        <td id=\"T_85f05254_2625_11eb_9040_a683e7d8407arow4_col0\" class=\"data row4 col0\" >368.2</td>\n",
       "                        <td id=\"T_85f05254_2625_11eb_9040_a683e7d8407arow4_col1\" class=\"data row4 col1\" >4.807e+05</td>\n",
       "                        <td id=\"T_85f05254_2625_11eb_9040_a683e7d8407arow4_col2\" class=\"data row4 col2\" >693.3</td>\n",
       "                        <td id=\"T_85f05254_2625_11eb_9040_a683e7d8407arow4_col3\" class=\"data row4 col3\" >0.7462</td>\n",
       "                        <td id=\"T_85f05254_2625_11eb_9040_a683e7d8407arow4_col4\" class=\"data row4 col4\" >0.491</td>\n",
       "                        <td id=\"T_85f05254_2625_11eb_9040_a683e7d8407arow4_col5\" class=\"data row4 col5\" >4.024</td>\n",
       "            </tr>\n",
       "            <tr>\n",
       "                        <th id=\"T_85f05254_2625_11eb_9040_a683e7d8407alevel0_row5\" class=\"row_heading level0 row5\" >5</th>\n",
       "                        <td id=\"T_85f05254_2625_11eb_9040_a683e7d8407arow5_col0\" class=\"data row5 col0\" >387.4</td>\n",
       "                        <td id=\"T_85f05254_2625_11eb_9040_a683e7d8407arow5_col1\" class=\"data row5 col1\" >4.961e+05</td>\n",
       "                        <td id=\"T_85f05254_2625_11eb_9040_a683e7d8407arow5_col2\" class=\"data row5 col2\" >704.4</td>\n",
       "                        <td id=\"T_85f05254_2625_11eb_9040_a683e7d8407arow5_col3\" class=\"data row5 col3\" >0.7368</td>\n",
       "                        <td id=\"T_85f05254_2625_11eb_9040_a683e7d8407arow5_col4\" class=\"data row5 col4\" >0.5477</td>\n",
       "                        <td id=\"T_85f05254_2625_11eb_9040_a683e7d8407arow5_col5\" class=\"data row5 col5\" >4.174</td>\n",
       "            </tr>\n",
       "            <tr>\n",
       "                        <th id=\"T_85f05254_2625_11eb_9040_a683e7d8407alevel0_row6\" class=\"row_heading level0 row6\" >6</th>\n",
       "                        <td id=\"T_85f05254_2625_11eb_9040_a683e7d8407arow6_col0\" class=\"data row6 col0\" >351.6</td>\n",
       "                        <td id=\"T_85f05254_2625_11eb_9040_a683e7d8407arow6_col1\" class=\"data row6 col1\" >4.142e+05</td>\n",
       "                        <td id=\"T_85f05254_2625_11eb_9040_a683e7d8407arow6_col2\" class=\"data row6 col2\" >643.6</td>\n",
       "                        <td id=\"T_85f05254_2625_11eb_9040_a683e7d8407arow6_col3\" class=\"data row6 col3\" >0.7187</td>\n",
       "                        <td id=\"T_85f05254_2625_11eb_9040_a683e7d8407arow6_col4\" class=\"data row6 col4\" >0.7119</td>\n",
       "                        <td id=\"T_85f05254_2625_11eb_9040_a683e7d8407arow6_col5\" class=\"data row6 col5\" >14.66</td>\n",
       "            </tr>\n",
       "            <tr>\n",
       "                        <th id=\"T_85f05254_2625_11eb_9040_a683e7d8407alevel0_row7\" class=\"row_heading level0 row7\" >7</th>\n",
       "                        <td id=\"T_85f05254_2625_11eb_9040_a683e7d8407arow7_col0\" class=\"data row7 col0\" >349.4</td>\n",
       "                        <td id=\"T_85f05254_2625_11eb_9040_a683e7d8407arow7_col1\" class=\"data row7 col1\" >4.402e+05</td>\n",
       "                        <td id=\"T_85f05254_2625_11eb_9040_a683e7d8407arow7_col2\" class=\"data row7 col2\" >663.4</td>\n",
       "                        <td id=\"T_85f05254_2625_11eb_9040_a683e7d8407arow7_col3\" class=\"data row7 col3\" >0.7723</td>\n",
       "                        <td id=\"T_85f05254_2625_11eb_9040_a683e7d8407arow7_col4\" class=\"data row7 col4\" >0.6198</td>\n",
       "                        <td id=\"T_85f05254_2625_11eb_9040_a683e7d8407arow7_col5\" class=\"data row7 col5\" >8.803</td>\n",
       "            </tr>\n",
       "            <tr>\n",
       "                        <th id=\"T_85f05254_2625_11eb_9040_a683e7d8407alevel0_row8\" class=\"row_heading level0 row8\" >8</th>\n",
       "                        <td id=\"T_85f05254_2625_11eb_9040_a683e7d8407arow8_col0\" class=\"data row8 col0\" >347.9</td>\n",
       "                        <td id=\"T_85f05254_2625_11eb_9040_a683e7d8407arow8_col1\" class=\"data row8 col1\" >4.014e+05</td>\n",
       "                        <td id=\"T_85f05254_2625_11eb_9040_a683e7d8407arow8_col2\" class=\"data row8 col2\" >633.6</td>\n",
       "                        <td id=\"T_85f05254_2625_11eb_9040_a683e7d8407arow8_col3\" class=\"data row8 col3\" >0.8082</td>\n",
       "                        <td id=\"T_85f05254_2625_11eb_9040_a683e7d8407arow8_col4\" class=\"data row8 col4\" >0.5016</td>\n",
       "                        <td id=\"T_85f05254_2625_11eb_9040_a683e7d8407arow8_col5\" class=\"data row8 col5\" >5.633</td>\n",
       "            </tr>\n",
       "            <tr>\n",
       "                        <th id=\"T_85f05254_2625_11eb_9040_a683e7d8407alevel0_row9\" class=\"row_heading level0 row9\" >9</th>\n",
       "                        <td id=\"T_85f05254_2625_11eb_9040_a683e7d8407arow9_col0\" class=\"data row9 col0\" >328.3</td>\n",
       "                        <td id=\"T_85f05254_2625_11eb_9040_a683e7d8407arow9_col1\" class=\"data row9 col1\" >3.599e+05</td>\n",
       "                        <td id=\"T_85f05254_2625_11eb_9040_a683e7d8407arow9_col2\" class=\"data row9 col2\" >599.9</td>\n",
       "                        <td id=\"T_85f05254_2625_11eb_9040_a683e7d8407arow9_col3\" class=\"data row9 col3\" >0.8014</td>\n",
       "                        <td id=\"T_85f05254_2625_11eb_9040_a683e7d8407arow9_col4\" class=\"data row9 col4\" >0.4972</td>\n",
       "                        <td id=\"T_85f05254_2625_11eb_9040_a683e7d8407arow9_col5\" class=\"data row9 col5\" >9.578</td>\n",
       "            </tr>\n",
       "            <tr>\n",
       "                        <th id=\"T_85f05254_2625_11eb_9040_a683e7d8407alevel0_row10\" class=\"row_heading level0 row10\" >Mean</th>\n",
       "                        <td id=\"T_85f05254_2625_11eb_9040_a683e7d8407arow10_col0\" class=\"data row10 col0\" >360.7</td>\n",
       "                        <td id=\"T_85f05254_2625_11eb_9040_a683e7d8407arow10_col1\" class=\"data row10 col1\" >4.692e+05</td>\n",
       "                        <td id=\"T_85f05254_2625_11eb_9040_a683e7d8407arow10_col2\" class=\"data row10 col2\" >682.8</td>\n",
       "                        <td id=\"T_85f05254_2625_11eb_9040_a683e7d8407arow10_col3\" class=\"data row10 col3\" >0.7561</td>\n",
       "                        <td id=\"T_85f05254_2625_11eb_9040_a683e7d8407arow10_col4\" class=\"data row10 col4\" >0.5362</td>\n",
       "                        <td id=\"T_85f05254_2625_11eb_9040_a683e7d8407arow10_col5\" class=\"data row10 col5\" >6.46</td>\n",
       "            </tr>\n",
       "            <tr>\n",
       "                        <th id=\"T_85f05254_2625_11eb_9040_a683e7d8407alevel0_row11\" class=\"row_heading level0 row11\" >SD</th>\n",
       "                        <td id=\"T_85f05254_2625_11eb_9040_a683e7d8407arow11_col0\" class=\"data row11 col0\" >16.58</td>\n",
       "                        <td id=\"T_85f05254_2625_11eb_9040_a683e7d8407arow11_col1\" class=\"data row11 col1\" >7.724e+04</td>\n",
       "                        <td id=\"T_85f05254_2625_11eb_9040_a683e7d8407arow11_col2\" class=\"data row11 col2\" >55.07</td>\n",
       "                        <td id=\"T_85f05254_2625_11eb_9040_a683e7d8407arow11_col3\" class=\"data row11 col3\" >0.0315</td>\n",
       "                        <td id=\"T_85f05254_2625_11eb_9040_a683e7d8407arow11_col4\" class=\"data row11 col4\" >0.0963</td>\n",
       "                        <td id=\"T_85f05254_2625_11eb_9040_a683e7d8407arow11_col5\" class=\"data row11 col5\" >4.34</td>\n",
       "            </tr>\n",
       "    </tbody></table>"
      ],
      "text/plain": [
       "<pandas.io.formats.style.Styler at 0x15626e850>"
      ]
     },
     "metadata": {},
     "output_type": "display_data"
    }
   ],
   "source": [
    "xgb = create_model('xgboost')"
   ]
  },
  {
   "cell_type": "code",
   "execution_count": 71,
   "metadata": {},
   "outputs": [
    {
     "data": {
      "text/html": [
       "<style  type=\"text/css\" >\n",
       "    #T_c64cf848_2625_11eb_9040_a683e7d8407arow10_col0 {\n",
       "            background:  yellow;\n",
       "        }    #T_c64cf848_2625_11eb_9040_a683e7d8407arow10_col1 {\n",
       "            background:  yellow;\n",
       "        }    #T_c64cf848_2625_11eb_9040_a683e7d8407arow10_col2 {\n",
       "            background:  yellow;\n",
       "        }    #T_c64cf848_2625_11eb_9040_a683e7d8407arow10_col3 {\n",
       "            background:  yellow;\n",
       "        }    #T_c64cf848_2625_11eb_9040_a683e7d8407arow10_col4 {\n",
       "            background:  yellow;\n",
       "        }    #T_c64cf848_2625_11eb_9040_a683e7d8407arow10_col5 {\n",
       "            background:  yellow;\n",
       "        }</style><table id=\"T_c64cf848_2625_11eb_9040_a683e7d8407a\" ><thead>    <tr>        <th class=\"blank level0\" ></th>        <th class=\"col_heading level0 col0\" >MAE</th>        <th class=\"col_heading level0 col1\" >MSE</th>        <th class=\"col_heading level0 col2\" >RMSE</th>        <th class=\"col_heading level0 col3\" >R2</th>        <th class=\"col_heading level0 col4\" >RMSLE</th>        <th class=\"col_heading level0 col5\" >MAPE</th>    </tr></thead><tbody>\n",
       "                <tr>\n",
       "                        <th id=\"T_c64cf848_2625_11eb_9040_a683e7d8407alevel0_row0\" class=\"row_heading level0 row0\" >0</th>\n",
       "                        <td id=\"T_c64cf848_2625_11eb_9040_a683e7d8407arow0_col0\" class=\"data row0 col0\" >371.2</td>\n",
       "                        <td id=\"T_c64cf848_2625_11eb_9040_a683e7d8407arow0_col1\" class=\"data row0 col1\" >4.217e+05</td>\n",
       "                        <td id=\"T_c64cf848_2625_11eb_9040_a683e7d8407arow0_col2\" class=\"data row0 col2\" >649.4</td>\n",
       "                        <td id=\"T_c64cf848_2625_11eb_9040_a683e7d8407arow0_col3\" class=\"data row0 col3\" >0.7537</td>\n",
       "                        <td id=\"T_c64cf848_2625_11eb_9040_a683e7d8407arow0_col4\" class=\"data row0 col4\" >0.6147</td>\n",
       "                        <td id=\"T_c64cf848_2625_11eb_9040_a683e7d8407arow0_col5\" class=\"data row0 col5\" >10.52</td>\n",
       "            </tr>\n",
       "            <tr>\n",
       "                        <th id=\"T_c64cf848_2625_11eb_9040_a683e7d8407alevel0_row1\" class=\"row_heading level0 row1\" >1</th>\n",
       "                        <td id=\"T_c64cf848_2625_11eb_9040_a683e7d8407arow1_col0\" class=\"data row1 col0\" >358.3</td>\n",
       "                        <td id=\"T_c64cf848_2625_11eb_9040_a683e7d8407arow1_col1\" class=\"data row1 col1\" >6.476e+05</td>\n",
       "                        <td id=\"T_c64cf848_2625_11eb_9040_a683e7d8407arow1_col2\" class=\"data row1 col2\" >804.7</td>\n",
       "                        <td id=\"T_c64cf848_2625_11eb_9040_a683e7d8407arow1_col3\" class=\"data row1 col3\" >0.7109</td>\n",
       "                        <td id=\"T_c64cf848_2625_11eb_9040_a683e7d8407arow1_col4\" class=\"data row1 col4\" >0.3633</td>\n",
       "                        <td id=\"T_c64cf848_2625_11eb_9040_a683e7d8407arow1_col5\" class=\"data row1 col5\" >0.2877</td>\n",
       "            </tr>\n",
       "            <tr>\n",
       "                        <th id=\"T_c64cf848_2625_11eb_9040_a683e7d8407alevel0_row2\" class=\"row_heading level0 row2\" >2</th>\n",
       "                        <td id=\"T_c64cf848_2625_11eb_9040_a683e7d8407arow2_col0\" class=\"data row2 col0\" >371.6</td>\n",
       "                        <td id=\"T_c64cf848_2625_11eb_9040_a683e7d8407arow2_col1\" class=\"data row2 col1\" >5.724e+05</td>\n",
       "                        <td id=\"T_c64cf848_2625_11eb_9040_a683e7d8407arow2_col2\" class=\"data row2 col2\" >756.6</td>\n",
       "                        <td id=\"T_c64cf848_2625_11eb_9040_a683e7d8407arow2_col3\" class=\"data row2 col3\" >0.7326</td>\n",
       "                        <td id=\"T_c64cf848_2625_11eb_9040_a683e7d8407arow2_col4\" class=\"data row2 col4\" >0.5719</td>\n",
       "                        <td id=\"T_c64cf848_2625_11eb_9040_a683e7d8407arow2_col5\" class=\"data row2 col5\" >5.95</td>\n",
       "            </tr>\n",
       "            <tr>\n",
       "                        <th id=\"T_c64cf848_2625_11eb_9040_a683e7d8407alevel0_row3\" class=\"row_heading level0 row3\" >3</th>\n",
       "                        <td id=\"T_c64cf848_2625_11eb_9040_a683e7d8407arow3_col0\" class=\"data row3 col0\" >358.3</td>\n",
       "                        <td id=\"T_c64cf848_2625_11eb_9040_a683e7d8407arow3_col1\" class=\"data row3 col1\" >4.36e+05</td>\n",
       "                        <td id=\"T_c64cf848_2625_11eb_9040_a683e7d8407arow3_col2\" class=\"data row3 col2\" >660.3</td>\n",
       "                        <td id=\"T_c64cf848_2625_11eb_9040_a683e7d8407arow3_col3\" class=\"data row3 col3\" >0.7934</td>\n",
       "                        <td id=\"T_c64cf848_2625_11eb_9040_a683e7d8407arow3_col4\" class=\"data row3 col4\" >0.3892</td>\n",
       "                        <td id=\"T_c64cf848_2625_11eb_9040_a683e7d8407arow3_col5\" class=\"data row3 col5\" >0.4186</td>\n",
       "            </tr>\n",
       "            <tr>\n",
       "                        <th id=\"T_c64cf848_2625_11eb_9040_a683e7d8407alevel0_row4\" class=\"row_heading level0 row4\" >4</th>\n",
       "                        <td id=\"T_c64cf848_2625_11eb_9040_a683e7d8407arow4_col0\" class=\"data row4 col0\" >362.8</td>\n",
       "                        <td id=\"T_c64cf848_2625_11eb_9040_a683e7d8407arow4_col1\" class=\"data row4 col1\" >4.558e+05</td>\n",
       "                        <td id=\"T_c64cf848_2625_11eb_9040_a683e7d8407arow4_col2\" class=\"data row4 col2\" >675.1</td>\n",
       "                        <td id=\"T_c64cf848_2625_11eb_9040_a683e7d8407arow4_col3\" class=\"data row4 col3\" >0.7594</td>\n",
       "                        <td id=\"T_c64cf848_2625_11eb_9040_a683e7d8407arow4_col4\" class=\"data row4 col4\" >0.4799</td>\n",
       "                        <td id=\"T_c64cf848_2625_11eb_9040_a683e7d8407arow4_col5\" class=\"data row4 col5\" >3.991</td>\n",
       "            </tr>\n",
       "            <tr>\n",
       "                        <th id=\"T_c64cf848_2625_11eb_9040_a683e7d8407alevel0_row5\" class=\"row_heading level0 row5\" >5</th>\n",
       "                        <td id=\"T_c64cf848_2625_11eb_9040_a683e7d8407arow5_col0\" class=\"data row5 col0\" >375.7</td>\n",
       "                        <td id=\"T_c64cf848_2625_11eb_9040_a683e7d8407arow5_col1\" class=\"data row5 col1\" >4.511e+05</td>\n",
       "                        <td id=\"T_c64cf848_2625_11eb_9040_a683e7d8407arow5_col2\" class=\"data row5 col2\" >671.6</td>\n",
       "                        <td id=\"T_c64cf848_2625_11eb_9040_a683e7d8407arow5_col3\" class=\"data row5 col3\" >0.7607</td>\n",
       "                        <td id=\"T_c64cf848_2625_11eb_9040_a683e7d8407arow5_col4\" class=\"data row5 col4\" >0.5358</td>\n",
       "                        <td id=\"T_c64cf848_2625_11eb_9040_a683e7d8407arow5_col5\" class=\"data row5 col5\" >4.013</td>\n",
       "            </tr>\n",
       "            <tr>\n",
       "                        <th id=\"T_c64cf848_2625_11eb_9040_a683e7d8407alevel0_row6\" class=\"row_heading level0 row6\" >6</th>\n",
       "                        <td id=\"T_c64cf848_2625_11eb_9040_a683e7d8407arow6_col0\" class=\"data row6 col0\" >348.5</td>\n",
       "                        <td id=\"T_c64cf848_2625_11eb_9040_a683e7d8407arow6_col1\" class=\"data row6 col1\" >4.1e+05</td>\n",
       "                        <td id=\"T_c64cf848_2625_11eb_9040_a683e7d8407arow6_col2\" class=\"data row6 col2\" >640.3</td>\n",
       "                        <td id=\"T_c64cf848_2625_11eb_9040_a683e7d8407arow6_col3\" class=\"data row6 col3\" >0.7216</td>\n",
       "                        <td id=\"T_c64cf848_2625_11eb_9040_a683e7d8407arow6_col4\" class=\"data row6 col4\" >0.7096</td>\n",
       "                        <td id=\"T_c64cf848_2625_11eb_9040_a683e7d8407arow6_col5\" class=\"data row6 col5\" >14.35</td>\n",
       "            </tr>\n",
       "            <tr>\n",
       "                        <th id=\"T_c64cf848_2625_11eb_9040_a683e7d8407alevel0_row7\" class=\"row_heading level0 row7\" >7</th>\n",
       "                        <td id=\"T_c64cf848_2625_11eb_9040_a683e7d8407arow7_col0\" class=\"data row7 col0\" >347.8</td>\n",
       "                        <td id=\"T_c64cf848_2625_11eb_9040_a683e7d8407arow7_col1\" class=\"data row7 col1\" >4.285e+05</td>\n",
       "                        <td id=\"T_c64cf848_2625_11eb_9040_a683e7d8407arow7_col2\" class=\"data row7 col2\" >654.6</td>\n",
       "                        <td id=\"T_c64cf848_2625_11eb_9040_a683e7d8407arow7_col3\" class=\"data row7 col3\" >0.7783</td>\n",
       "                        <td id=\"T_c64cf848_2625_11eb_9040_a683e7d8407arow7_col4\" class=\"data row7 col4\" >0.6213</td>\n",
       "                        <td id=\"T_c64cf848_2625_11eb_9040_a683e7d8407arow7_col5\" class=\"data row7 col5\" >9.238</td>\n",
       "            </tr>\n",
       "            <tr>\n",
       "                        <th id=\"T_c64cf848_2625_11eb_9040_a683e7d8407alevel0_row8\" class=\"row_heading level0 row8\" >8</th>\n",
       "                        <td id=\"T_c64cf848_2625_11eb_9040_a683e7d8407arow8_col0\" class=\"data row8 col0\" >343.3</td>\n",
       "                        <td id=\"T_c64cf848_2625_11eb_9040_a683e7d8407arow8_col1\" class=\"data row8 col1\" >4.05e+05</td>\n",
       "                        <td id=\"T_c64cf848_2625_11eb_9040_a683e7d8407arow8_col2\" class=\"data row8 col2\" >636.4</td>\n",
       "                        <td id=\"T_c64cf848_2625_11eb_9040_a683e7d8407arow8_col3\" class=\"data row8 col3\" >0.8064</td>\n",
       "                        <td id=\"T_c64cf848_2625_11eb_9040_a683e7d8407arow8_col4\" class=\"data row8 col4\" >0.4955</td>\n",
       "                        <td id=\"T_c64cf848_2625_11eb_9040_a683e7d8407arow8_col5\" class=\"data row8 col5\" >5.634</td>\n",
       "            </tr>\n",
       "            <tr>\n",
       "                        <th id=\"T_c64cf848_2625_11eb_9040_a683e7d8407alevel0_row9\" class=\"row_heading level0 row9\" >9</th>\n",
       "                        <td id=\"T_c64cf848_2625_11eb_9040_a683e7d8407arow9_col0\" class=\"data row9 col0\" >327</td>\n",
       "                        <td id=\"T_c64cf848_2625_11eb_9040_a683e7d8407arow9_col1\" class=\"data row9 col1\" >3.593e+05</td>\n",
       "                        <td id=\"T_c64cf848_2625_11eb_9040_a683e7d8407arow9_col2\" class=\"data row9 col2\" >599.4</td>\n",
       "                        <td id=\"T_c64cf848_2625_11eb_9040_a683e7d8407arow9_col3\" class=\"data row9 col3\" >0.8017</td>\n",
       "                        <td id=\"T_c64cf848_2625_11eb_9040_a683e7d8407arow9_col4\" class=\"data row9 col4\" >0.4912</td>\n",
       "                        <td id=\"T_c64cf848_2625_11eb_9040_a683e7d8407arow9_col5\" class=\"data row9 col5\" >9.435</td>\n",
       "            </tr>\n",
       "            <tr>\n",
       "                        <th id=\"T_c64cf848_2625_11eb_9040_a683e7d8407alevel0_row10\" class=\"row_heading level0 row10\" >Mean</th>\n",
       "                        <td id=\"T_c64cf848_2625_11eb_9040_a683e7d8407arow10_col0\" class=\"data row10 col0\" >356.5</td>\n",
       "                        <td id=\"T_c64cf848_2625_11eb_9040_a683e7d8407arow10_col1\" class=\"data row10 col1\" >4.587e+05</td>\n",
       "                        <td id=\"T_c64cf848_2625_11eb_9040_a683e7d8407arow10_col2\" class=\"data row10 col2\" >674.8</td>\n",
       "                        <td id=\"T_c64cf848_2625_11eb_9040_a683e7d8407arow10_col3\" class=\"data row10 col3\" >0.7619</td>\n",
       "                        <td id=\"T_c64cf848_2625_11eb_9040_a683e7d8407arow10_col4\" class=\"data row10 col4\" >0.5272</td>\n",
       "                        <td id=\"T_c64cf848_2625_11eb_9040_a683e7d8407arow10_col5\" class=\"data row10 col5\" >6.383</td>\n",
       "            </tr>\n",
       "            <tr>\n",
       "                        <th id=\"T_c64cf848_2625_11eb_9040_a683e7d8407alevel0_row11\" class=\"row_heading level0 row11\" >SD</th>\n",
       "                        <td id=\"T_c64cf848_2625_11eb_9040_a683e7d8407arow11_col0\" class=\"data row11 col0\" >14.29</td>\n",
       "                        <td id=\"T_c64cf848_2625_11eb_9040_a683e7d8407arow11_col1\" class=\"data row11 col1\" >8.161e+04</td>\n",
       "                        <td id=\"T_c64cf848_2625_11eb_9040_a683e7d8407arow11_col2\" class=\"data row11 col2\" >57.61</td>\n",
       "                        <td id=\"T_c64cf848_2625_11eb_9040_a683e7d8407arow11_col3\" class=\"data row11 col3\" >0.0316</td>\n",
       "                        <td id=\"T_c64cf848_2625_11eb_9040_a683e7d8407arow11_col4\" class=\"data row11 col4\" >0.1011</td>\n",
       "                        <td id=\"T_c64cf848_2625_11eb_9040_a683e7d8407arow11_col5\" class=\"data row11 col5\" >4.276</td>\n",
       "            </tr>\n",
       "    </tbody></table>"
      ],
      "text/plain": [
       "<pandas.io.formats.style.Styler at 0x151c73390>"
      ]
     },
     "metadata": {},
     "output_type": "display_data"
    }
   ],
   "source": [
    "bagged_xgb = ensemble_model(xgb)"
   ]
  },
  {
   "cell_type": "code",
   "execution_count": 78,
   "metadata": {},
   "outputs": [
    {
     "data": {
      "text/html": [
       "<style  type=\"text/css\" >\n",
       "    #T_f93f3290_2628_11eb_9040_a683e7d8407arow10_col0 {\n",
       "            background:  yellow;\n",
       "        }    #T_f93f3290_2628_11eb_9040_a683e7d8407arow10_col1 {\n",
       "            background:  yellow;\n",
       "        }    #T_f93f3290_2628_11eb_9040_a683e7d8407arow10_col2 {\n",
       "            background:  yellow;\n",
       "        }    #T_f93f3290_2628_11eb_9040_a683e7d8407arow10_col3 {\n",
       "            background:  yellow;\n",
       "        }    #T_f93f3290_2628_11eb_9040_a683e7d8407arow10_col4 {\n",
       "            background:  yellow;\n",
       "        }    #T_f93f3290_2628_11eb_9040_a683e7d8407arow10_col5 {\n",
       "            background:  yellow;\n",
       "        }</style><table id=\"T_f93f3290_2628_11eb_9040_a683e7d8407a\" ><thead>    <tr>        <th class=\"blank level0\" ></th>        <th class=\"col_heading level0 col0\" >MAE</th>        <th class=\"col_heading level0 col1\" >MSE</th>        <th class=\"col_heading level0 col2\" >RMSE</th>        <th class=\"col_heading level0 col3\" >R2</th>        <th class=\"col_heading level0 col4\" >RMSLE</th>        <th class=\"col_heading level0 col5\" >MAPE</th>    </tr></thead><tbody>\n",
       "                <tr>\n",
       "                        <th id=\"T_f93f3290_2628_11eb_9040_a683e7d8407alevel0_row0\" class=\"row_heading level0 row0\" >0</th>\n",
       "                        <td id=\"T_f93f3290_2628_11eb_9040_a683e7d8407arow0_col0\" class=\"data row0 col0\" >369.3</td>\n",
       "                        <td id=\"T_f93f3290_2628_11eb_9040_a683e7d8407arow0_col1\" class=\"data row0 col1\" >3.988e+05</td>\n",
       "                        <td id=\"T_f93f3290_2628_11eb_9040_a683e7d8407arow0_col2\" class=\"data row0 col2\" >631.5</td>\n",
       "                        <td id=\"T_f93f3290_2628_11eb_9040_a683e7d8407arow0_col3\" class=\"data row0 col3\" >0.767</td>\n",
       "                        <td id=\"T_f93f3290_2628_11eb_9040_a683e7d8407arow0_col4\" class=\"data row0 col4\" >0.6171</td>\n",
       "                        <td id=\"T_f93f3290_2628_11eb_9040_a683e7d8407arow0_col5\" class=\"data row0 col5\" >10.54</td>\n",
       "            </tr>\n",
       "            <tr>\n",
       "                        <th id=\"T_f93f3290_2628_11eb_9040_a683e7d8407alevel0_row1\" class=\"row_heading level0 row1\" >1</th>\n",
       "                        <td id=\"T_f93f3290_2628_11eb_9040_a683e7d8407arow1_col0\" class=\"data row1 col0\" >362.2</td>\n",
       "                        <td id=\"T_f93f3290_2628_11eb_9040_a683e7d8407arow1_col1\" class=\"data row1 col1\" >6.438e+05</td>\n",
       "                        <td id=\"T_f93f3290_2628_11eb_9040_a683e7d8407arow1_col2\" class=\"data row1 col2\" >802.4</td>\n",
       "                        <td id=\"T_f93f3290_2628_11eb_9040_a683e7d8407arow1_col3\" class=\"data row1 col3\" >0.7126</td>\n",
       "                        <td id=\"T_f93f3290_2628_11eb_9040_a683e7d8407arow1_col4\" class=\"data row1 col4\" >0.3695</td>\n",
       "                        <td id=\"T_f93f3290_2628_11eb_9040_a683e7d8407arow1_col5\" class=\"data row1 col5\" >0.2985</td>\n",
       "            </tr>\n",
       "            <tr>\n",
       "                        <th id=\"T_f93f3290_2628_11eb_9040_a683e7d8407alevel0_row2\" class=\"row_heading level0 row2\" >2</th>\n",
       "                        <td id=\"T_f93f3290_2628_11eb_9040_a683e7d8407arow2_col0\" class=\"data row2 col0\" >373.8</td>\n",
       "                        <td id=\"T_f93f3290_2628_11eb_9040_a683e7d8407arow2_col1\" class=\"data row2 col1\" >5.629e+05</td>\n",
       "                        <td id=\"T_f93f3290_2628_11eb_9040_a683e7d8407arow2_col2\" class=\"data row2 col2\" >750.3</td>\n",
       "                        <td id=\"T_f93f3290_2628_11eb_9040_a683e7d8407arow2_col3\" class=\"data row2 col3\" >0.7371</td>\n",
       "                        <td id=\"T_f93f3290_2628_11eb_9040_a683e7d8407arow2_col4\" class=\"data row2 col4\" >0.575</td>\n",
       "                        <td id=\"T_f93f3290_2628_11eb_9040_a683e7d8407arow2_col5\" class=\"data row2 col5\" >6.129</td>\n",
       "            </tr>\n",
       "            <tr>\n",
       "                        <th id=\"T_f93f3290_2628_11eb_9040_a683e7d8407alevel0_row3\" class=\"row_heading level0 row3\" >3</th>\n",
       "                        <td id=\"T_f93f3290_2628_11eb_9040_a683e7d8407arow3_col0\" class=\"data row3 col0\" >354.2</td>\n",
       "                        <td id=\"T_f93f3290_2628_11eb_9040_a683e7d8407arow3_col1\" class=\"data row3 col1\" >4.19e+05</td>\n",
       "                        <td id=\"T_f93f3290_2628_11eb_9040_a683e7d8407arow3_col2\" class=\"data row3 col2\" >647.3</td>\n",
       "                        <td id=\"T_f93f3290_2628_11eb_9040_a683e7d8407arow3_col3\" class=\"data row3 col3\" >0.8015</td>\n",
       "                        <td id=\"T_f93f3290_2628_11eb_9040_a683e7d8407arow3_col4\" class=\"data row3 col4\" >0.3822</td>\n",
       "                        <td id=\"T_f93f3290_2628_11eb_9040_a683e7d8407arow3_col5\" class=\"data row3 col5\" >0.4123</td>\n",
       "            </tr>\n",
       "            <tr>\n",
       "                        <th id=\"T_f93f3290_2628_11eb_9040_a683e7d8407alevel0_row4\" class=\"row_heading level0 row4\" >4</th>\n",
       "                        <td id=\"T_f93f3290_2628_11eb_9040_a683e7d8407arow4_col0\" class=\"data row4 col0\" >360.2</td>\n",
       "                        <td id=\"T_f93f3290_2628_11eb_9040_a683e7d8407arow4_col1\" class=\"data row4 col1\" >4.508e+05</td>\n",
       "                        <td id=\"T_f93f3290_2628_11eb_9040_a683e7d8407arow4_col2\" class=\"data row4 col2\" >671.4</td>\n",
       "                        <td id=\"T_f93f3290_2628_11eb_9040_a683e7d8407arow4_col3\" class=\"data row4 col3\" >0.762</td>\n",
       "                        <td id=\"T_f93f3290_2628_11eb_9040_a683e7d8407arow4_col4\" class=\"data row4 col4\" >0.4711</td>\n",
       "                        <td id=\"T_f93f3290_2628_11eb_9040_a683e7d8407arow4_col5\" class=\"data row4 col5\" >3.991</td>\n",
       "            </tr>\n",
       "            <tr>\n",
       "                        <th id=\"T_f93f3290_2628_11eb_9040_a683e7d8407alevel0_row5\" class=\"row_heading level0 row5\" >5</th>\n",
       "                        <td id=\"T_f93f3290_2628_11eb_9040_a683e7d8407arow5_col0\" class=\"data row5 col0\" >366.6</td>\n",
       "                        <td id=\"T_f93f3290_2628_11eb_9040_a683e7d8407arow5_col1\" class=\"data row5 col1\" >4.097e+05</td>\n",
       "                        <td id=\"T_f93f3290_2628_11eb_9040_a683e7d8407arow5_col2\" class=\"data row5 col2\" >640.1</td>\n",
       "                        <td id=\"T_f93f3290_2628_11eb_9040_a683e7d8407arow5_col3\" class=\"data row5 col3\" >0.7826</td>\n",
       "                        <td id=\"T_f93f3290_2628_11eb_9040_a683e7d8407arow5_col4\" class=\"data row5 col4\" >0.5296</td>\n",
       "                        <td id=\"T_f93f3290_2628_11eb_9040_a683e7d8407arow5_col5\" class=\"data row5 col5\" >3.779</td>\n",
       "            </tr>\n",
       "            <tr>\n",
       "                        <th id=\"T_f93f3290_2628_11eb_9040_a683e7d8407alevel0_row6\" class=\"row_heading level0 row6\" >6</th>\n",
       "                        <td id=\"T_f93f3290_2628_11eb_9040_a683e7d8407arow6_col0\" class=\"data row6 col0\" >351.8</td>\n",
       "                        <td id=\"T_f93f3290_2628_11eb_9040_a683e7d8407arow6_col1\" class=\"data row6 col1\" >4.076e+05</td>\n",
       "                        <td id=\"T_f93f3290_2628_11eb_9040_a683e7d8407arow6_col2\" class=\"data row6 col2\" >638.5</td>\n",
       "                        <td id=\"T_f93f3290_2628_11eb_9040_a683e7d8407arow6_col3\" class=\"data row6 col3\" >0.7232</td>\n",
       "                        <td id=\"T_f93f3290_2628_11eb_9040_a683e7d8407arow6_col4\" class=\"data row6 col4\" >0.7142</td>\n",
       "                        <td id=\"T_f93f3290_2628_11eb_9040_a683e7d8407arow6_col5\" class=\"data row6 col5\" >14.25</td>\n",
       "            </tr>\n",
       "            <tr>\n",
       "                        <th id=\"T_f93f3290_2628_11eb_9040_a683e7d8407alevel0_row7\" class=\"row_heading level0 row7\" >7</th>\n",
       "                        <td id=\"T_f93f3290_2628_11eb_9040_a683e7d8407arow7_col0\" class=\"data row7 col0\" >355</td>\n",
       "                        <td id=\"T_f93f3290_2628_11eb_9040_a683e7d8407arow7_col1\" class=\"data row7 col1\" >4.374e+05</td>\n",
       "                        <td id=\"T_f93f3290_2628_11eb_9040_a683e7d8407arow7_col2\" class=\"data row7 col2\" >661.4</td>\n",
       "                        <td id=\"T_f93f3290_2628_11eb_9040_a683e7d8407arow7_col3\" class=\"data row7 col3\" >0.7737</td>\n",
       "                        <td id=\"T_f93f3290_2628_11eb_9040_a683e7d8407arow7_col4\" class=\"data row7 col4\" >0.6262</td>\n",
       "                        <td id=\"T_f93f3290_2628_11eb_9040_a683e7d8407arow7_col5\" class=\"data row7 col5\" >9.538</td>\n",
       "            </tr>\n",
       "            <tr>\n",
       "                        <th id=\"T_f93f3290_2628_11eb_9040_a683e7d8407alevel0_row8\" class=\"row_heading level0 row8\" >8</th>\n",
       "                        <td id=\"T_f93f3290_2628_11eb_9040_a683e7d8407arow8_col0\" class=\"data row8 col0\" >345.5</td>\n",
       "                        <td id=\"T_f93f3290_2628_11eb_9040_a683e7d8407arow8_col1\" class=\"data row8 col1\" >4.005e+05</td>\n",
       "                        <td id=\"T_f93f3290_2628_11eb_9040_a683e7d8407arow8_col2\" class=\"data row8 col2\" >632.9</td>\n",
       "                        <td id=\"T_f93f3290_2628_11eb_9040_a683e7d8407arow8_col3\" class=\"data row8 col3\" >0.8086</td>\n",
       "                        <td id=\"T_f93f3290_2628_11eb_9040_a683e7d8407arow8_col4\" class=\"data row8 col4\" >0.495</td>\n",
       "                        <td id=\"T_f93f3290_2628_11eb_9040_a683e7d8407arow8_col5\" class=\"data row8 col5\" >5.744</td>\n",
       "            </tr>\n",
       "            <tr>\n",
       "                        <th id=\"T_f93f3290_2628_11eb_9040_a683e7d8407alevel0_row9\" class=\"row_heading level0 row9\" >9</th>\n",
       "                        <td id=\"T_f93f3290_2628_11eb_9040_a683e7d8407arow9_col0\" class=\"data row9 col0\" >319.1</td>\n",
       "                        <td id=\"T_f93f3290_2628_11eb_9040_a683e7d8407arow9_col1\" class=\"data row9 col1\" >3.083e+05</td>\n",
       "                        <td id=\"T_f93f3290_2628_11eb_9040_a683e7d8407arow9_col2\" class=\"data row9 col2\" >555.2</td>\n",
       "                        <td id=\"T_f93f3290_2628_11eb_9040_a683e7d8407arow9_col3\" class=\"data row9 col3\" >0.8299</td>\n",
       "                        <td id=\"T_f93f3290_2628_11eb_9040_a683e7d8407arow9_col4\" class=\"data row9 col4\" >0.489</td>\n",
       "                        <td id=\"T_f93f3290_2628_11eb_9040_a683e7d8407arow9_col5\" class=\"data row9 col5\" >9.596</td>\n",
       "            </tr>\n",
       "            <tr>\n",
       "                        <th id=\"T_f93f3290_2628_11eb_9040_a683e7d8407alevel0_row10\" class=\"row_heading level0 row10\" >Mean</th>\n",
       "                        <td id=\"T_f93f3290_2628_11eb_9040_a683e7d8407arow10_col0\" class=\"data row10 col0\" >355.8</td>\n",
       "                        <td id=\"T_f93f3290_2628_11eb_9040_a683e7d8407arow10_col1\" class=\"data row10 col1\" >4.439e+05</td>\n",
       "                        <td id=\"T_f93f3290_2628_11eb_9040_a683e7d8407arow10_col2\" class=\"data row10 col2\" >663.1</td>\n",
       "                        <td id=\"T_f93f3290_2628_11eb_9040_a683e7d8407arow10_col3\" class=\"data row10 col3\" >0.7698</td>\n",
       "                        <td id=\"T_f93f3290_2628_11eb_9040_a683e7d8407arow10_col4\" class=\"data row10 col4\" >0.5269</td>\n",
       "                        <td id=\"T_f93f3290_2628_11eb_9040_a683e7d8407arow10_col5\" class=\"data row10 col5\" >6.428</td>\n",
       "            </tr>\n",
       "            <tr>\n",
       "                        <th id=\"T_f93f3290_2628_11eb_9040_a683e7d8407alevel0_row11\" class=\"row_heading level0 row11\" >SD</th>\n",
       "                        <td id=\"T_f93f3290_2628_11eb_9040_a683e7d8407arow11_col0\" class=\"data row11 col0\" >14.67</td>\n",
       "                        <td id=\"T_f93f3290_2628_11eb_9040_a683e7d8407arow11_col1\" class=\"data row11 col1\" >8.923e+04</td>\n",
       "                        <td id=\"T_f93f3290_2628_11eb_9040_a683e7d8407arow11_col2\" class=\"data row11 col2\" >64.81</td>\n",
       "                        <td id=\"T_f93f3290_2628_11eb_9040_a683e7d8407arow11_col3\" class=\"data row11 col3\" >0.0359</td>\n",
       "                        <td id=\"T_f93f3290_2628_11eb_9040_a683e7d8407arow11_col4\" class=\"data row11 col4\" >0.1033</td>\n",
       "                        <td id=\"T_f93f3290_2628_11eb_9040_a683e7d8407arow11_col5\" class=\"data row11 col5\" >4.303</td>\n",
       "            </tr>\n",
       "    </tbody></table>"
      ],
      "text/plain": [
       "<pandas.io.formats.style.Styler at 0x1577c7490>"
      ]
     },
     "metadata": {},
     "output_type": "display_data"
    }
   ],
   "source": [
    "bagged_catb = ensemble_model(catb)"
   ]
  },
  {
   "cell_type": "markdown",
   "metadata": {},
   "source": [
    "# 하이퍼 파라미터 조정"
   ]
  },
  {
   "cell_type": "code",
   "execution_count": 73,
   "metadata": {},
   "outputs": [
    {
     "data": {
      "text/html": [
       "<style  type=\"text/css\" >\n",
       "    #T_4b02795a_2626_11eb_9040_a683e7d8407arow10_col0 {\n",
       "            background:  yellow;\n",
       "        }    #T_4b02795a_2626_11eb_9040_a683e7d8407arow10_col1 {\n",
       "            background:  yellow;\n",
       "        }    #T_4b02795a_2626_11eb_9040_a683e7d8407arow10_col2 {\n",
       "            background:  yellow;\n",
       "        }    #T_4b02795a_2626_11eb_9040_a683e7d8407arow10_col3 {\n",
       "            background:  yellow;\n",
       "        }    #T_4b02795a_2626_11eb_9040_a683e7d8407arow10_col4 {\n",
       "            background:  yellow;\n",
       "        }    #T_4b02795a_2626_11eb_9040_a683e7d8407arow10_col5 {\n",
       "            background:  yellow;\n",
       "        }</style><table id=\"T_4b02795a_2626_11eb_9040_a683e7d8407a\" ><thead>    <tr>        <th class=\"blank level0\" ></th>        <th class=\"col_heading level0 col0\" >MAE</th>        <th class=\"col_heading level0 col1\" >MSE</th>        <th class=\"col_heading level0 col2\" >RMSE</th>        <th class=\"col_heading level0 col3\" >R2</th>        <th class=\"col_heading level0 col4\" >RMSLE</th>        <th class=\"col_heading level0 col5\" >MAPE</th>    </tr></thead><tbody>\n",
       "                <tr>\n",
       "                        <th id=\"T_4b02795a_2626_11eb_9040_a683e7d8407alevel0_row0\" class=\"row_heading level0 row0\" >0</th>\n",
       "                        <td id=\"T_4b02795a_2626_11eb_9040_a683e7d8407arow0_col0\" class=\"data row0 col0\" >379</td>\n",
       "                        <td id=\"T_4b02795a_2626_11eb_9040_a683e7d8407arow0_col1\" class=\"data row0 col1\" >4.003e+05</td>\n",
       "                        <td id=\"T_4b02795a_2626_11eb_9040_a683e7d8407arow0_col2\" class=\"data row0 col2\" >632.7</td>\n",
       "                        <td id=\"T_4b02795a_2626_11eb_9040_a683e7d8407arow0_col3\" class=\"data row0 col3\" >0.7662</td>\n",
       "                        <td id=\"T_4b02795a_2626_11eb_9040_a683e7d8407arow0_col4\" class=\"data row0 col4\" >0.6179</td>\n",
       "                        <td id=\"T_4b02795a_2626_11eb_9040_a683e7d8407arow0_col5\" class=\"data row0 col5\" >9.88</td>\n",
       "            </tr>\n",
       "            <tr>\n",
       "                        <th id=\"T_4b02795a_2626_11eb_9040_a683e7d8407alevel0_row1\" class=\"row_heading level0 row1\" >1</th>\n",
       "                        <td id=\"T_4b02795a_2626_11eb_9040_a683e7d8407arow1_col0\" class=\"data row1 col0\" >369</td>\n",
       "                        <td id=\"T_4b02795a_2626_11eb_9040_a683e7d8407arow1_col1\" class=\"data row1 col1\" >6.662e+05</td>\n",
       "                        <td id=\"T_4b02795a_2626_11eb_9040_a683e7d8407arow1_col2\" class=\"data row1 col2\" >816.2</td>\n",
       "                        <td id=\"T_4b02795a_2626_11eb_9040_a683e7d8407arow1_col3\" class=\"data row1 col3\" >0.7026</td>\n",
       "                        <td id=\"T_4b02795a_2626_11eb_9040_a683e7d8407arow1_col4\" class=\"data row1 col4\" >0.3697</td>\n",
       "                        <td id=\"T_4b02795a_2626_11eb_9040_a683e7d8407arow1_col5\" class=\"data row1 col5\" >0.3088</td>\n",
       "            </tr>\n",
       "            <tr>\n",
       "                        <th id=\"T_4b02795a_2626_11eb_9040_a683e7d8407alevel0_row2\" class=\"row_heading level0 row2\" >2</th>\n",
       "                        <td id=\"T_4b02795a_2626_11eb_9040_a683e7d8407arow2_col0\" class=\"data row2 col0\" >372.7</td>\n",
       "                        <td id=\"T_4b02795a_2626_11eb_9040_a683e7d8407arow2_col1\" class=\"data row2 col1\" >5.739e+05</td>\n",
       "                        <td id=\"T_4b02795a_2626_11eb_9040_a683e7d8407arow2_col2\" class=\"data row2 col2\" >757.5</td>\n",
       "                        <td id=\"T_4b02795a_2626_11eb_9040_a683e7d8407arow2_col3\" class=\"data row2 col3\" >0.732</td>\n",
       "                        <td id=\"T_4b02795a_2626_11eb_9040_a683e7d8407arow2_col4\" class=\"data row2 col4\" >0.5758</td>\n",
       "                        <td id=\"T_4b02795a_2626_11eb_9040_a683e7d8407arow2_col5\" class=\"data row2 col5\" >6.043</td>\n",
       "            </tr>\n",
       "            <tr>\n",
       "                        <th id=\"T_4b02795a_2626_11eb_9040_a683e7d8407alevel0_row3\" class=\"row_heading level0 row3\" >3</th>\n",
       "                        <td id=\"T_4b02795a_2626_11eb_9040_a683e7d8407arow3_col0\" class=\"data row3 col0\" >363.4</td>\n",
       "                        <td id=\"T_4b02795a_2626_11eb_9040_a683e7d8407arow3_col1\" class=\"data row3 col1\" >4.066e+05</td>\n",
       "                        <td id=\"T_4b02795a_2626_11eb_9040_a683e7d8407arow3_col2\" class=\"data row3 col2\" >637.7</td>\n",
       "                        <td id=\"T_4b02795a_2626_11eb_9040_a683e7d8407arow3_col3\" class=\"data row3 col3\" >0.8073</td>\n",
       "                        <td id=\"T_4b02795a_2626_11eb_9040_a683e7d8407arow3_col4\" class=\"data row3 col4\" >0.3947</td>\n",
       "                        <td id=\"T_4b02795a_2626_11eb_9040_a683e7d8407arow3_col5\" class=\"data row3 col5\" >0.4325</td>\n",
       "            </tr>\n",
       "            <tr>\n",
       "                        <th id=\"T_4b02795a_2626_11eb_9040_a683e7d8407alevel0_row4\" class=\"row_heading level0 row4\" >4</th>\n",
       "                        <td id=\"T_4b02795a_2626_11eb_9040_a683e7d8407arow4_col0\" class=\"data row4 col0\" >362.2</td>\n",
       "                        <td id=\"T_4b02795a_2626_11eb_9040_a683e7d8407arow4_col1\" class=\"data row4 col1\" >4.359e+05</td>\n",
       "                        <td id=\"T_4b02795a_2626_11eb_9040_a683e7d8407arow4_col2\" class=\"data row4 col2\" >660.2</td>\n",
       "                        <td id=\"T_4b02795a_2626_11eb_9040_a683e7d8407arow4_col3\" class=\"data row4 col3\" >0.7699</td>\n",
       "                        <td id=\"T_4b02795a_2626_11eb_9040_a683e7d8407arow4_col4\" class=\"data row4 col4\" >0.4803</td>\n",
       "                        <td id=\"T_4b02795a_2626_11eb_9040_a683e7d8407arow4_col5\" class=\"data row4 col5\" >3.974</td>\n",
       "            </tr>\n",
       "            <tr>\n",
       "                        <th id=\"T_4b02795a_2626_11eb_9040_a683e7d8407alevel0_row5\" class=\"row_heading level0 row5\" >5</th>\n",
       "                        <td id=\"T_4b02795a_2626_11eb_9040_a683e7d8407arow5_col0\" class=\"data row5 col0\" >376</td>\n",
       "                        <td id=\"T_4b02795a_2626_11eb_9040_a683e7d8407arow5_col1\" class=\"data row5 col1\" >4.112e+05</td>\n",
       "                        <td id=\"T_4b02795a_2626_11eb_9040_a683e7d8407arow5_col2\" class=\"data row5 col2\" >641.3</td>\n",
       "                        <td id=\"T_4b02795a_2626_11eb_9040_a683e7d8407arow5_col3\" class=\"data row5 col3\" >0.7819</td>\n",
       "                        <td id=\"T_4b02795a_2626_11eb_9040_a683e7d8407arow5_col4\" class=\"data row5 col4\" >0.5403</td>\n",
       "                        <td id=\"T_4b02795a_2626_11eb_9040_a683e7d8407arow5_col5\" class=\"data row5 col5\" >4.107</td>\n",
       "            </tr>\n",
       "            <tr>\n",
       "                        <th id=\"T_4b02795a_2626_11eb_9040_a683e7d8407alevel0_row6\" class=\"row_heading level0 row6\" >6</th>\n",
       "                        <td id=\"T_4b02795a_2626_11eb_9040_a683e7d8407arow6_col0\" class=\"data row6 col0\" >353.3</td>\n",
       "                        <td id=\"T_4b02795a_2626_11eb_9040_a683e7d8407arow6_col1\" class=\"data row6 col1\" >4.06e+05</td>\n",
       "                        <td id=\"T_4b02795a_2626_11eb_9040_a683e7d8407arow6_col2\" class=\"data row6 col2\" >637.2</td>\n",
       "                        <td id=\"T_4b02795a_2626_11eb_9040_a683e7d8407arow6_col3\" class=\"data row6 col3\" >0.7243</td>\n",
       "                        <td id=\"T_4b02795a_2626_11eb_9040_a683e7d8407arow6_col4\" class=\"data row6 col4\" >0.7149</td>\n",
       "                        <td id=\"T_4b02795a_2626_11eb_9040_a683e7d8407arow6_col5\" class=\"data row6 col5\" >14.82</td>\n",
       "            </tr>\n",
       "            <tr>\n",
       "                        <th id=\"T_4b02795a_2626_11eb_9040_a683e7d8407alevel0_row7\" class=\"row_heading level0 row7\" >7</th>\n",
       "                        <td id=\"T_4b02795a_2626_11eb_9040_a683e7d8407arow7_col0\" class=\"data row7 col0\" >355.7</td>\n",
       "                        <td id=\"T_4b02795a_2626_11eb_9040_a683e7d8407arow7_col1\" class=\"data row7 col1\" >4.467e+05</td>\n",
       "                        <td id=\"T_4b02795a_2626_11eb_9040_a683e7d8407arow7_col2\" class=\"data row7 col2\" >668.3</td>\n",
       "                        <td id=\"T_4b02795a_2626_11eb_9040_a683e7d8407arow7_col3\" class=\"data row7 col3\" >0.7689</td>\n",
       "                        <td id=\"T_4b02795a_2626_11eb_9040_a683e7d8407arow7_col4\" class=\"data row7 col4\" >0.6224</td>\n",
       "                        <td id=\"T_4b02795a_2626_11eb_9040_a683e7d8407arow7_col5\" class=\"data row7 col5\" >9.099</td>\n",
       "            </tr>\n",
       "            <tr>\n",
       "                        <th id=\"T_4b02795a_2626_11eb_9040_a683e7d8407alevel0_row8\" class=\"row_heading level0 row8\" >8</th>\n",
       "                        <td id=\"T_4b02795a_2626_11eb_9040_a683e7d8407arow8_col0\" class=\"data row8 col0\" >351.8</td>\n",
       "                        <td id=\"T_4b02795a_2626_11eb_9040_a683e7d8407arow8_col1\" class=\"data row8 col1\" >4.23e+05</td>\n",
       "                        <td id=\"T_4b02795a_2626_11eb_9040_a683e7d8407arow8_col2\" class=\"data row8 col2\" >650.4</td>\n",
       "                        <td id=\"T_4b02795a_2626_11eb_9040_a683e7d8407arow8_col3\" class=\"data row8 col3\" >0.7978</td>\n",
       "                        <td id=\"T_4b02795a_2626_11eb_9040_a683e7d8407arow8_col4\" class=\"data row8 col4\" >0.5052</td>\n",
       "                        <td id=\"T_4b02795a_2626_11eb_9040_a683e7d8407arow8_col5\" class=\"data row8 col5\" >5.469</td>\n",
       "            </tr>\n",
       "            <tr>\n",
       "                        <th id=\"T_4b02795a_2626_11eb_9040_a683e7d8407alevel0_row9\" class=\"row_heading level0 row9\" >9</th>\n",
       "                        <td id=\"T_4b02795a_2626_11eb_9040_a683e7d8407arow9_col0\" class=\"data row9 col0\" >318.5</td>\n",
       "                        <td id=\"T_4b02795a_2626_11eb_9040_a683e7d8407arow9_col1\" class=\"data row9 col1\" >2.912e+05</td>\n",
       "                        <td id=\"T_4b02795a_2626_11eb_9040_a683e7d8407arow9_col2\" class=\"data row9 col2\" >539.6</td>\n",
       "                        <td id=\"T_4b02795a_2626_11eb_9040_a683e7d8407arow9_col3\" class=\"data row9 col3\" >0.8393</td>\n",
       "                        <td id=\"T_4b02795a_2626_11eb_9040_a683e7d8407arow9_col4\" class=\"data row9 col4\" >0.4911</td>\n",
       "                        <td id=\"T_4b02795a_2626_11eb_9040_a683e7d8407arow9_col5\" class=\"data row9 col5\" >9.36</td>\n",
       "            </tr>\n",
       "            <tr>\n",
       "                        <th id=\"T_4b02795a_2626_11eb_9040_a683e7d8407alevel0_row10\" class=\"row_heading level0 row10\" >Mean</th>\n",
       "                        <td id=\"T_4b02795a_2626_11eb_9040_a683e7d8407arow10_col0\" class=\"data row10 col0\" >360.2</td>\n",
       "                        <td id=\"T_4b02795a_2626_11eb_9040_a683e7d8407arow10_col1\" class=\"data row10 col1\" >4.461e+05</td>\n",
       "                        <td id=\"T_4b02795a_2626_11eb_9040_a683e7d8407arow10_col2\" class=\"data row10 col2\" >664.1</td>\n",
       "                        <td id=\"T_4b02795a_2626_11eb_9040_a683e7d8407arow10_col3\" class=\"data row10 col3\" >0.769</td>\n",
       "                        <td id=\"T_4b02795a_2626_11eb_9040_a683e7d8407arow10_col4\" class=\"data row10 col4\" >0.5312</td>\n",
       "                        <td id=\"T_4b02795a_2626_11eb_9040_a683e7d8407arow10_col5\" class=\"data row10 col5\" >6.35</td>\n",
       "            </tr>\n",
       "            <tr>\n",
       "                        <th id=\"T_4b02795a_2626_11eb_9040_a683e7d8407alevel0_row11\" class=\"row_heading level0 row11\" >SD</th>\n",
       "                        <td id=\"T_4b02795a_2626_11eb_9040_a683e7d8407arow11_col0\" class=\"data row11 col0\" >16.51</td>\n",
       "                        <td id=\"T_4b02795a_2626_11eb_9040_a683e7d8407arow11_col1\" class=\"data row11 col1\" >9.792e+04</td>\n",
       "                        <td id=\"T_4b02795a_2626_11eb_9040_a683e7d8407arow11_col2\" class=\"data row11 col2\" >71.07</td>\n",
       "                        <td id=\"T_4b02795a_2626_11eb_9040_a683e7d8407arow11_col3\" class=\"data row11 col3\" >0.039</td>\n",
       "                        <td id=\"T_4b02795a_2626_11eb_9040_a683e7d8407arow11_col4\" class=\"data row11 col4\" >0.1006</td>\n",
       "                        <td id=\"T_4b02795a_2626_11eb_9040_a683e7d8407arow11_col5\" class=\"data row11 col5\" >4.289</td>\n",
       "            </tr>\n",
       "    </tbody></table>"
      ],
      "text/plain": [
       "<pandas.io.formats.style.Styler at 0x156e83710>"
      ]
     },
     "metadata": {},
     "output_type": "display_data"
    }
   ],
   "source": [
    "tuned_xgb = tune_model(bagged_xgb)"
   ]
  },
  {
   "cell_type": "code",
   "execution_count": 76,
   "metadata": {},
   "outputs": [
    {
     "data": {
      "text/html": [
       "<style  type=\"text/css\" >\n",
       "    #T_52ab474e_2627_11eb_9040_a683e7d8407arow10_col0 {\n",
       "            background:  yellow;\n",
       "        }    #T_52ab474e_2627_11eb_9040_a683e7d8407arow10_col1 {\n",
       "            background:  yellow;\n",
       "        }    #T_52ab474e_2627_11eb_9040_a683e7d8407arow10_col2 {\n",
       "            background:  yellow;\n",
       "        }    #T_52ab474e_2627_11eb_9040_a683e7d8407arow10_col3 {\n",
       "            background:  yellow;\n",
       "        }    #T_52ab474e_2627_11eb_9040_a683e7d8407arow10_col4 {\n",
       "            background:  yellow;\n",
       "        }    #T_52ab474e_2627_11eb_9040_a683e7d8407arow10_col5 {\n",
       "            background:  yellow;\n",
       "        }</style><table id=\"T_52ab474e_2627_11eb_9040_a683e7d8407a\" ><thead>    <tr>        <th class=\"blank level0\" ></th>        <th class=\"col_heading level0 col0\" >MAE</th>        <th class=\"col_heading level0 col1\" >MSE</th>        <th class=\"col_heading level0 col2\" >RMSE</th>        <th class=\"col_heading level0 col3\" >R2</th>        <th class=\"col_heading level0 col4\" >RMSLE</th>        <th class=\"col_heading level0 col5\" >MAPE</th>    </tr></thead><tbody>\n",
       "                <tr>\n",
       "                        <th id=\"T_52ab474e_2627_11eb_9040_a683e7d8407alevel0_row0\" class=\"row_heading level0 row0\" >0</th>\n",
       "                        <td id=\"T_52ab474e_2627_11eb_9040_a683e7d8407arow0_col0\" class=\"data row0 col0\" >378.9</td>\n",
       "                        <td id=\"T_52ab474e_2627_11eb_9040_a683e7d8407arow0_col1\" class=\"data row0 col1\" >3.983e+05</td>\n",
       "                        <td id=\"T_52ab474e_2627_11eb_9040_a683e7d8407arow0_col2\" class=\"data row0 col2\" >631.1</td>\n",
       "                        <td id=\"T_52ab474e_2627_11eb_9040_a683e7d8407arow0_col3\" class=\"data row0 col3\" >0.7674</td>\n",
       "                        <td id=\"T_52ab474e_2627_11eb_9040_a683e7d8407arow0_col4\" class=\"data row0 col4\" >0.6216</td>\n",
       "                        <td id=\"T_52ab474e_2627_11eb_9040_a683e7d8407arow0_col5\" class=\"data row0 col5\" >9.949</td>\n",
       "            </tr>\n",
       "            <tr>\n",
       "                        <th id=\"T_52ab474e_2627_11eb_9040_a683e7d8407alevel0_row1\" class=\"row_heading level0 row1\" >1</th>\n",
       "                        <td id=\"T_52ab474e_2627_11eb_9040_a683e7d8407arow1_col0\" class=\"data row1 col0\" >373</td>\n",
       "                        <td id=\"T_52ab474e_2627_11eb_9040_a683e7d8407arow1_col1\" class=\"data row1 col1\" >6.831e+05</td>\n",
       "                        <td id=\"T_52ab474e_2627_11eb_9040_a683e7d8407arow1_col2\" class=\"data row1 col2\" >826.5</td>\n",
       "                        <td id=\"T_52ab474e_2627_11eb_9040_a683e7d8407arow1_col3\" class=\"data row1 col3\" >0.695</td>\n",
       "                        <td id=\"T_52ab474e_2627_11eb_9040_a683e7d8407arow1_col4\" class=\"data row1 col4\" >0.3729</td>\n",
       "                        <td id=\"T_52ab474e_2627_11eb_9040_a683e7d8407arow1_col5\" class=\"data row1 col5\" >0.3152</td>\n",
       "            </tr>\n",
       "            <tr>\n",
       "                        <th id=\"T_52ab474e_2627_11eb_9040_a683e7d8407alevel0_row2\" class=\"row_heading level0 row2\" >2</th>\n",
       "                        <td id=\"T_52ab474e_2627_11eb_9040_a683e7d8407arow2_col0\" class=\"data row2 col0\" >377.7</td>\n",
       "                        <td id=\"T_52ab474e_2627_11eb_9040_a683e7d8407arow2_col1\" class=\"data row2 col1\" >5.849e+05</td>\n",
       "                        <td id=\"T_52ab474e_2627_11eb_9040_a683e7d8407arow2_col2\" class=\"data row2 col2\" >764.8</td>\n",
       "                        <td id=\"T_52ab474e_2627_11eb_9040_a683e7d8407arow2_col3\" class=\"data row2 col3\" >0.7268</td>\n",
       "                        <td id=\"T_52ab474e_2627_11eb_9040_a683e7d8407arow2_col4\" class=\"data row2 col4\" >0.5818</td>\n",
       "                        <td id=\"T_52ab474e_2627_11eb_9040_a683e7d8407arow2_col5\" class=\"data row2 col5\" >6.058</td>\n",
       "            </tr>\n",
       "            <tr>\n",
       "                        <th id=\"T_52ab474e_2627_11eb_9040_a683e7d8407alevel0_row3\" class=\"row_heading level0 row3\" >3</th>\n",
       "                        <td id=\"T_52ab474e_2627_11eb_9040_a683e7d8407arow3_col0\" class=\"data row3 col0\" >373.8</td>\n",
       "                        <td id=\"T_52ab474e_2627_11eb_9040_a683e7d8407arow3_col1\" class=\"data row3 col1\" >4.287e+05</td>\n",
       "                        <td id=\"T_52ab474e_2627_11eb_9040_a683e7d8407arow3_col2\" class=\"data row3 col2\" >654.7</td>\n",
       "                        <td id=\"T_52ab474e_2627_11eb_9040_a683e7d8407arow3_col3\" class=\"data row3 col3\" >0.7969</td>\n",
       "                        <td id=\"T_52ab474e_2627_11eb_9040_a683e7d8407arow3_col4\" class=\"data row3 col4\" >0.4015</td>\n",
       "                        <td id=\"T_52ab474e_2627_11eb_9040_a683e7d8407arow3_col5\" class=\"data row3 col5\" >0.4471</td>\n",
       "            </tr>\n",
       "            <tr>\n",
       "                        <th id=\"T_52ab474e_2627_11eb_9040_a683e7d8407alevel0_row4\" class=\"row_heading level0 row4\" >4</th>\n",
       "                        <td id=\"T_52ab474e_2627_11eb_9040_a683e7d8407arow4_col0\" class=\"data row4 col0\" >366.1</td>\n",
       "                        <td id=\"T_52ab474e_2627_11eb_9040_a683e7d8407arow4_col1\" class=\"data row4 col1\" >4.436e+05</td>\n",
       "                        <td id=\"T_52ab474e_2627_11eb_9040_a683e7d8407arow4_col2\" class=\"data row4 col2\" >666</td>\n",
       "                        <td id=\"T_52ab474e_2627_11eb_9040_a683e7d8407arow4_col3\" class=\"data row4 col3\" >0.7658</td>\n",
       "                        <td id=\"T_52ab474e_2627_11eb_9040_a683e7d8407arow4_col4\" class=\"data row4 col4\" >0.4793</td>\n",
       "                        <td id=\"T_52ab474e_2627_11eb_9040_a683e7d8407arow4_col5\" class=\"data row4 col5\" >4.137</td>\n",
       "            </tr>\n",
       "            <tr>\n",
       "                        <th id=\"T_52ab474e_2627_11eb_9040_a683e7d8407alevel0_row5\" class=\"row_heading level0 row5\" >5</th>\n",
       "                        <td id=\"T_52ab474e_2627_11eb_9040_a683e7d8407arow5_col0\" class=\"data row5 col0\" >378.3</td>\n",
       "                        <td id=\"T_52ab474e_2627_11eb_9040_a683e7d8407arow5_col1\" class=\"data row5 col1\" >4.094e+05</td>\n",
       "                        <td id=\"T_52ab474e_2627_11eb_9040_a683e7d8407arow5_col2\" class=\"data row5 col2\" >639.9</td>\n",
       "                        <td id=\"T_52ab474e_2627_11eb_9040_a683e7d8407arow5_col3\" class=\"data row5 col3\" >0.7828</td>\n",
       "                        <td id=\"T_52ab474e_2627_11eb_9040_a683e7d8407arow5_col4\" class=\"data row5 col4\" >0.5462</td>\n",
       "                        <td id=\"T_52ab474e_2627_11eb_9040_a683e7d8407arow5_col5\" class=\"data row5 col5\" >4.162</td>\n",
       "            </tr>\n",
       "            <tr>\n",
       "                        <th id=\"T_52ab474e_2627_11eb_9040_a683e7d8407alevel0_row6\" class=\"row_heading level0 row6\" >6</th>\n",
       "                        <td id=\"T_52ab474e_2627_11eb_9040_a683e7d8407arow6_col0\" class=\"data row6 col0\" >353.3</td>\n",
       "                        <td id=\"T_52ab474e_2627_11eb_9040_a683e7d8407arow6_col1\" class=\"data row6 col1\" >3.981e+05</td>\n",
       "                        <td id=\"T_52ab474e_2627_11eb_9040_a683e7d8407arow6_col2\" class=\"data row6 col2\" >631</td>\n",
       "                        <td id=\"T_52ab474e_2627_11eb_9040_a683e7d8407arow6_col3\" class=\"data row6 col3\" >0.7297</td>\n",
       "                        <td id=\"T_52ab474e_2627_11eb_9040_a683e7d8407arow6_col4\" class=\"data row6 col4\" >0.7132</td>\n",
       "                        <td id=\"T_52ab474e_2627_11eb_9040_a683e7d8407arow6_col5\" class=\"data row6 col5\" >14.48</td>\n",
       "            </tr>\n",
       "            <tr>\n",
       "                        <th id=\"T_52ab474e_2627_11eb_9040_a683e7d8407alevel0_row7\" class=\"row_heading level0 row7\" >7</th>\n",
       "                        <td id=\"T_52ab474e_2627_11eb_9040_a683e7d8407arow7_col0\" class=\"data row7 col0\" >357.3</td>\n",
       "                        <td id=\"T_52ab474e_2627_11eb_9040_a683e7d8407arow7_col1\" class=\"data row7 col1\" >4.437e+05</td>\n",
       "                        <td id=\"T_52ab474e_2627_11eb_9040_a683e7d8407arow7_col2\" class=\"data row7 col2\" >666.1</td>\n",
       "                        <td id=\"T_52ab474e_2627_11eb_9040_a683e7d8407arow7_col3\" class=\"data row7 col3\" >0.7704</td>\n",
       "                        <td id=\"T_52ab474e_2627_11eb_9040_a683e7d8407arow7_col4\" class=\"data row7 col4\" >0.6231</td>\n",
       "                        <td id=\"T_52ab474e_2627_11eb_9040_a683e7d8407arow7_col5\" class=\"data row7 col5\" >8.875</td>\n",
       "            </tr>\n",
       "            <tr>\n",
       "                        <th id=\"T_52ab474e_2627_11eb_9040_a683e7d8407alevel0_row8\" class=\"row_heading level0 row8\" >8</th>\n",
       "                        <td id=\"T_52ab474e_2627_11eb_9040_a683e7d8407arow8_col0\" class=\"data row8 col0\" >362.1</td>\n",
       "                        <td id=\"T_52ab474e_2627_11eb_9040_a683e7d8407arow8_col1\" class=\"data row8 col1\" >4.579e+05</td>\n",
       "                        <td id=\"T_52ab474e_2627_11eb_9040_a683e7d8407arow8_col2\" class=\"data row8 col2\" >676.7</td>\n",
       "                        <td id=\"T_52ab474e_2627_11eb_9040_a683e7d8407arow8_col3\" class=\"data row8 col3\" >0.7811</td>\n",
       "                        <td id=\"T_52ab474e_2627_11eb_9040_a683e7d8407arow8_col4\" class=\"data row8 col4\" >0.508</td>\n",
       "                        <td id=\"T_52ab474e_2627_11eb_9040_a683e7d8407arow8_col5\" class=\"data row8 col5\" >5.536</td>\n",
       "            </tr>\n",
       "            <tr>\n",
       "                        <th id=\"T_52ab474e_2627_11eb_9040_a683e7d8407alevel0_row9\" class=\"row_heading level0 row9\" >9</th>\n",
       "                        <td id=\"T_52ab474e_2627_11eb_9040_a683e7d8407arow9_col0\" class=\"data row9 col0\" >327</td>\n",
       "                        <td id=\"T_52ab474e_2627_11eb_9040_a683e7d8407arow9_col1\" class=\"data row9 col1\" >3.133e+05</td>\n",
       "                        <td id=\"T_52ab474e_2627_11eb_9040_a683e7d8407arow9_col2\" class=\"data row9 col2\" >559.7</td>\n",
       "                        <td id=\"T_52ab474e_2627_11eb_9040_a683e7d8407arow9_col3\" class=\"data row9 col3\" >0.8271</td>\n",
       "                        <td id=\"T_52ab474e_2627_11eb_9040_a683e7d8407arow9_col4\" class=\"data row9 col4\" >0.4951</td>\n",
       "                        <td id=\"T_52ab474e_2627_11eb_9040_a683e7d8407arow9_col5\" class=\"data row9 col5\" >9.491</td>\n",
       "            </tr>\n",
       "            <tr>\n",
       "                        <th id=\"T_52ab474e_2627_11eb_9040_a683e7d8407alevel0_row10\" class=\"row_heading level0 row10\" >Mean</th>\n",
       "                        <td id=\"T_52ab474e_2627_11eb_9040_a683e7d8407arow10_col0\" class=\"data row10 col0\" >364.7</td>\n",
       "                        <td id=\"T_52ab474e_2627_11eb_9040_a683e7d8407arow10_col1\" class=\"data row10 col1\" >4.561e+05</td>\n",
       "                        <td id=\"T_52ab474e_2627_11eb_9040_a683e7d8407arow10_col2\" class=\"data row10 col2\" >671.7</td>\n",
       "                        <td id=\"T_52ab474e_2627_11eb_9040_a683e7d8407arow10_col3\" class=\"data row10 col3\" >0.7643</td>\n",
       "                        <td id=\"T_52ab474e_2627_11eb_9040_a683e7d8407arow10_col4\" class=\"data row10 col4\" >0.5343</td>\n",
       "                        <td id=\"T_52ab474e_2627_11eb_9040_a683e7d8407arow10_col5\" class=\"data row10 col5\" >6.345</td>\n",
       "            </tr>\n",
       "            <tr>\n",
       "                        <th id=\"T_52ab474e_2627_11eb_9040_a683e7d8407alevel0_row11\" class=\"row_heading level0 row11\" >SD</th>\n",
       "                        <td id=\"T_52ab474e_2627_11eb_9040_a683e7d8407arow11_col0\" class=\"data row11 col0\" >15.23</td>\n",
       "                        <td id=\"T_52ab474e_2627_11eb_9040_a683e7d8407arow11_col1\" class=\"data row11 col1\" >9.924e+04</td>\n",
       "                        <td id=\"T_52ab474e_2627_11eb_9040_a683e7d8407arow11_col2\" class=\"data row11 col2\" >70.62</td>\n",
       "                        <td id=\"T_52ab474e_2627_11eb_9040_a683e7d8407arow11_col3\" class=\"data row11 col3\" >0.0362</td>\n",
       "                        <td id=\"T_52ab474e_2627_11eb_9040_a683e7d8407arow11_col4\" class=\"data row11 col4\" >0.0994</td>\n",
       "                        <td id=\"T_52ab474e_2627_11eb_9040_a683e7d8407arow11_col5\" class=\"data row11 col5\" >4.206</td>\n",
       "            </tr>\n",
       "    </tbody></table>"
      ],
      "text/plain": [
       "<pandas.io.formats.style.Styler at 0x159586ed0>"
      ]
     },
     "metadata": {},
     "output_type": "display_data"
    }
   ],
   "source": [
    "bagged_xgb2 = ensemble_model(tuned_xgb)"
   ]
  },
  {
   "cell_type": "markdown",
   "metadata": {},
   "source": [
    "# 결과 보기 "
   ]
  },
  {
   "cell_type": "code",
   "execution_count": 80,
   "metadata": {},
   "outputs": [],
   "source": [
    "final_xgb = finalize_model(tuned_xgb)"
   ]
  },
  {
   "cell_type": "code",
   "execution_count": 81,
   "metadata": {},
   "outputs": [
    {
     "data": {
      "text/html": [
       "<style  type=\"text/css\" >\n",
       "</style><table id=\"T_aeb32ec2_262b_11eb_9040_a683e7d8407a\" ><thead>    <tr>        <th class=\"blank level0\" ></th>        <th class=\"col_heading level0 col0\" >Model</th>        <th class=\"col_heading level0 col1\" >MAE</th>        <th class=\"col_heading level0 col2\" >MSE</th>        <th class=\"col_heading level0 col3\" >RMSE</th>        <th class=\"col_heading level0 col4\" >R2</th>        <th class=\"col_heading level0 col5\" >RMSLE</th>        <th class=\"col_heading level0 col6\" >MAPE</th>    </tr></thead><tbody>\n",
       "                <tr>\n",
       "                        <th id=\"T_aeb32ec2_262b_11eb_9040_a683e7d8407alevel0_row0\" class=\"row_heading level0 row0\" >0</th>\n",
       "                        <td id=\"T_aeb32ec2_262b_11eb_9040_a683e7d8407arow0_col0\" class=\"data row0 col0\" >Extreme Gradient Boosting</td>\n",
       "                        <td id=\"T_aeb32ec2_262b_11eb_9040_a683e7d8407arow0_col1\" class=\"data row0 col1\" >299.7</td>\n",
       "                        <td id=\"T_aeb32ec2_262b_11eb_9040_a683e7d8407arow0_col2\" class=\"data row0 col2\" >2.656e+05</td>\n",
       "                        <td id=\"T_aeb32ec2_262b_11eb_9040_a683e7d8407arow0_col3\" class=\"data row0 col3\" >515.4</td>\n",
       "                        <td id=\"T_aeb32ec2_262b_11eb_9040_a683e7d8407arow0_col4\" class=\"data row0 col4\" >0.8459</td>\n",
       "                        <td id=\"T_aeb32ec2_262b_11eb_9040_a683e7d8407arow0_col5\" class=\"data row0 col5\" >0.4654</td>\n",
       "                        <td id=\"T_aeb32ec2_262b_11eb_9040_a683e7d8407arow0_col6\" class=\"data row0 col6\" >3.718</td>\n",
       "            </tr>\n",
       "    </tbody></table>"
      ],
      "text/plain": [
       "<pandas.io.formats.style.Styler at 0x1579789d0>"
      ]
     },
     "metadata": {},
     "output_type": "display_data"
    }
   ],
   "source": [
    "pred_xgb = predict_model(final_xgb)"
   ]
  },
  {
   "cell_type": "code",
   "execution_count": 90,
   "metadata": {},
   "outputs": [
    {
     "data": {
      "image/png": "[encoded data removed]",
      "text/plain": [
       "<Figure size 1080x216 with 1 Axes>"
      ]
     },
     "metadata": {
      "needs_background": "light"
     },
     "output_type": "display_data"
    }
   ],
   "source": [
    "plot_result(pred_xgb['label'], pred_xgb['Label'], 300)"
   ]
  },
  {
   "cell_type": "code",
   "execution_count": 54,
   "metadata": {},
   "outputs": [],
   "source": []
  },
  {
   "cell_type": "markdown",
   "metadata": {},
   "source": [
    "# 제출"
   ]
  },
  {
   "cell_type": "code",
   "execution_count": 88,
   "metadata": {},
   "outputs": [],
   "source": [
    "def save_models(model, save_dir):\n",
    "\n",
    "    pred = predict_model(model, data=test)\n",
    "    pred = pred['Label']\n",
    "    submission['가격(만원)'] = pred\n",
    "    save_path = './results/%s/'%(save_dir)\n",
    "    os.mkdir(save_path)\n",
    "    submission.to_csv('%s/submission.csv'%save_path, index = False)\n",
    "    save_model(model, '%s/model'%save_path)"
   ]
  },
  {
   "cell_type": "code",
   "execution_count": 89,
   "metadata": {},
   "outputs": [
    {
     "name": "stdout",
     "output_type": "stream",
     "text": [
      "Transformation Pipeline and Model Succesfully Saved\n"
     ]
    }
   ],
   "source": [
    "save_models(final_xgb, 'sub-5')"
   ]
  },
  {
   "cell_type": "code",
   "execution_count": 85,
   "metadata": {},
   "outputs": [],
   "source": [
    "def rating(x):\n",
    "    y = (100) * (2000 -x)/(2000)\n",
    "    return y\n",
    "\n",
    "def reverse(y):\n",
    "    x = -((2000*y) / 100)+2000\n",
    "    return x"
   ]
  },
  {
   "cell_type": "code",
   "execution_count": 86,
   "metadata": {},
   "outputs": [
    {
     "data": {
      "text/plain": [
       "74.25"
      ]
     },
     "execution_count": 86,
     "metadata": {},
     "output_type": "execute_result"
    }
   ],
   "source": [
    "rating(515)"
   ]
  },
  {
   "cell_type": "code",
   "execution_count": null,
   "metadata": {},
   "outputs": [],
   "source": []
  }
 ],
 "metadata": {
  "kernelspec": {
   "display_name": "Python 3",
   "language": "python",
   "name": "python3"
  },
  "language_info": {
   "codemirror_mode": {
    "name": "ipython",
    "version": 3
   },
   "file_extension": ".py",
   "mimetype": "text/x-python",
   "name": "python",
   "nbconvert_exporter": "python",
   "pygments_lexer": "ipython3",
   "version": "3.7.4"
  }
 },
 "nbformat": 4,
 "nbformat_minor": 4
}
